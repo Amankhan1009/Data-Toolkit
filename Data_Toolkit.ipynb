{
 "cells": [
  {
   "cell_type": "code",
   "execution_count": 41,
   "metadata": {},
   "outputs": [],
   "source": [
    "import pandas as pd\n",
    "import numpy as np\n",
    "import matplotlib.pyplot as plt\n",
    "import seaborn as sns\n",
    "import warnings\n",
    "warnings.filterwarnings('ignore')"
   ]
  },
  {
   "cell_type": "code",
   "execution_count": 42,
   "metadata": {},
   "outputs": [
    {
     "name": "stdout",
     "output_type": "stream",
     "text": [
      "First method:\n",
      " [[1 2 3]\n",
      " [4 5 6]]\n",
      "Second method\n",
      " [[1 2 3]\n",
      " [1 2 3]]\n",
      "Third method:\n",
      " [[1. 2. 3.]\n",
      " [4. 5. 6.]]\n"
     ]
    }
   ],
   "source": [
    "# 1.Demonstrate three different methods for creating identical 2D arrays in NumPy Provide the code for each\n",
    "# method and the final output after each method\n",
    "\n",
    "arr = np.array([[1,2,3],[4,5,6]])\n",
    "print(\"First method:\\n\",arr)\n",
    "\n",
    "arr2 = np.full((2,3), fill_value=[1,2,3])\n",
    "print(\"Second method\\n\",arr2)\n",
    "\n",
    "arr3 = np.ones((2,3))*[[1,2,3],[4,5,6]]\n",
    "print(\"Third method:\\n\",arr3)"
   ]
  },
  {
   "cell_type": "code",
   "execution_count": 43,
   "metadata": {},
   "outputs": [
    {
     "name": "stdout",
     "output_type": "stream",
     "text": [
      "[[ 1.          1.09090909  1.18181818  1.27272727  1.36363636  1.45454545\n",
      "   1.54545455  1.63636364  1.72727273  1.81818182]\n",
      " [ 1.90909091  2.          2.09090909  2.18181818  2.27272727  2.36363636\n",
      "   2.45454545  2.54545455  2.63636364  2.72727273]\n",
      " [ 2.81818182  2.90909091  3.          3.09090909  3.18181818  3.27272727\n",
      "   3.36363636  3.45454545  3.54545455  3.63636364]\n",
      " [ 3.72727273  3.81818182  3.90909091  4.          4.09090909  4.18181818\n",
      "   4.27272727  4.36363636  4.45454545  4.54545455]\n",
      " [ 4.63636364  4.72727273  4.81818182  4.90909091  5.          5.09090909\n",
      "   5.18181818  5.27272727  5.36363636  5.45454545]\n",
      " [ 5.54545455  5.63636364  5.72727273  5.81818182  5.90909091  6.\n",
      "   6.09090909  6.18181818  6.27272727  6.36363636]\n",
      " [ 6.45454545  6.54545455  6.63636364  6.72727273  6.81818182  6.90909091\n",
      "   7.          7.09090909  7.18181818  7.27272727]\n",
      " [ 7.36363636  7.45454545  7.54545455  7.63636364  7.72727273  7.81818182\n",
      "   7.90909091  8.          8.09090909  8.18181818]\n",
      " [ 8.27272727  8.36363636  8.45454545  8.54545455  8.63636364  8.72727273\n",
      "   8.81818182  8.90909091  9.          9.09090909]\n",
      " [ 9.18181818  9.27272727  9.36363636  9.45454545  9.54545455  9.63636364\n",
      "   9.72727273  9.81818182  9.90909091 10.        ]]\n"
     ]
    }
   ],
   "source": [
    "# 2.Using the Numpy function, generate an array of 100 evenly spaced numPers between 1 and 10 and\n",
    "# Reshape that wD array into a 2D array\n",
    "\n",
    "arr = np.linspace(1,10,100)\n",
    "# print(arr)\n",
    "\n",
    "arr_2d = np.reshape(arr, (10,10))\n",
    "print(arr_2d)"
   ]
  },
  {
   "cell_type": "code",
   "execution_count": 44,
   "metadata": {},
   "outputs": [
    {
     "name": "stdout",
     "output_type": "stream",
     "text": [
      "[1 2 3]\n",
      "True\n",
      "<class 'numpy.matrix'>\n"
     ]
    }
   ],
   "source": [
    "# 3. Explain the following terms\n",
    "# i. Difference between np.array(), np.asarray(), and np.asanyarray()\n",
    "\n",
    "# Ans: \n",
    "# np.array()->\n",
    "# Purpose: Creates a new NumPy array from any input (like lists, tuples, or arrays). By default, it copies the data, which \n",
    "#          means it generates a new independent array.\n",
    "# Key Point: It always returns a NumPy array, and if the input is already an array, it still copies the data unless \n",
    "#            specified otherwise using the copy=False argument.\n",
    "import numpy as np\n",
    "\n",
    "# Example:\n",
    "a = [1, 2, 3]\n",
    "b = np.array(a)\n",
    "\n",
    "print(b)  # [1 2 3]\n",
    "\n",
    "\n",
    "# np.asarray()->\n",
    "# Purpose: Converts the input into a NumPy array without copying the data if the input is already an array.\n",
    "#          It's more efficient when the data is already a NumPy array, as it avoids unnecessary copying.\n",
    "# Key Point: If the input is already a NumPy array, it returns the original array instead of creating a new copy.\n",
    "\n",
    "# Example:\n",
    "a = np.array([1, 2, 3])\n",
    "b = np.asarray(a)\n",
    "\n",
    "print(a is b)  # True, as no new copy is made\n",
    "\n",
    "\n",
    "# np.asanyarray()\n",
    "# Purpose: Similar to np.asarray(), but it preserves the input type if it is a subclass of np.ndarray. \n",
    "# For example, if you pass a matrix or masked array, it will return the same type, not a base NumPy array.\n",
    "# Key Point: It’s used when you want to avoid converting certain specialized types like matrices into regular arrays.\n",
    "\n",
    "# Example:\n",
    "a = np.matrix([[1, 2], [3, 4]])\n",
    "b = np.asanyarray(a)\n",
    "\n",
    "print(type(b))  # <class 'numpy.matrix'>, preserves the matrix type\n"
   ]
  },
  {
   "cell_type": "code",
   "execution_count": 45,
   "metadata": {},
   "outputs": [
    {
     "name": "stdout",
     "output_type": "stream",
     "text": [
      "[[10, 2], [3, 4]]\n",
      "[[10, 2], [3, 4]]\n"
     ]
    }
   ],
   "source": [
    "# ii. Difference between Deep Copy and Shallow Copy\n",
    "\n",
    "# Shallow Copy\n",
    "# Definition: A shallow copy creates a new object, but it does not recursively copy the objects that the \n",
    "#             original object references. Instead, it copies references to the original object's nested objects (i.e., inner objects).\n",
    "# Impact: Modifying the nested objects in the copy affects the original object because both the copy and the \n",
    "#         original object share references to the same nested objects.\n",
    "\n",
    "import copy\n",
    "\n",
    "# Example of shallow copy:\n",
    "original = [[1, 2], [3, 4]]\n",
    "shallow = copy.copy(original)\n",
    "\n",
    "shallow[0][0] = 10\n",
    "print(original)  # [[10, 2], [3, 4]] - inner objects are shared\n",
    "\n",
    "\n",
    "# Deep Copy\n",
    "# Definition: A deep copy creates a new object and recursively copies all the objects within the original object.\n",
    "#             It does not share references with the original object's inner objects.\n",
    "# Impact: Modifying the deep copy does not affect the original object, as they are entirely independent.\n",
    "\n",
    "# Example of deep copy:\n",
    "deep = copy.deepcopy(original)\n",
    "\n",
    "deep[0][0] = 100\n",
    "print(original)  # [[10, 2], [3, 4]] - deep copy is independent\n"
   ]
  },
  {
   "cell_type": "code",
   "execution_count": 46,
   "metadata": {},
   "outputs": [
    {
     "name": "stdout",
     "output_type": "stream",
     "text": [
      "[[ 9.44745821 18.32031249  6.61436138]\n",
      " [10.94819859 15.00348172  9.01098401]\n",
      " [16.41788187 19.97622254 17.36568229]]\n",
      "After rounding\n",
      " [[ 9.45 18.32  6.61]\n",
      " [10.95 15.    9.01]\n",
      " [16.42 19.98 17.37]]\n"
     ]
    }
   ],
   "source": [
    "# Q4. Generate 3x3 array using floating points range between 5 and 20. Also round the no. upto 2 decimal points.\n",
    "\n",
    "arr = np.random.uniform(5,21,size=(3,3))\n",
    "print(arr)\n",
    "\n",
    "# rounding the array upto  decimal\n",
    "arr1 = np.round(arr,2)\n",
    "print(\"After rounding\\n\",arr1)"
   ]
  },
  {
   "cell_type": "code",
   "execution_count": 47,
   "metadata": {},
   "outputs": [
    {
     "name": "stdout",
     "output_type": "stream",
     "text": [
      "Array of random integers:\n",
      " [[7 3 9 1 2 4]\n",
      " [9 3 7 8 2 9]\n",
      " [1 6 2 4 3 2]\n",
      " [2 1 7 4 5 1]\n",
      " [3 3 6 8 1 3]]\n",
      "Even no\n",
      " [2 4 8 2 6 2 4 2 2 4 6 8]\n",
      "Odd no\n",
      " [7 3 9 1 9 3 7 9 1 3 1 7 5 1 3 3 1 3]\n"
     ]
    }
   ],
   "source": [
    "#Q5  Create a NumPy array with random integers between 1 and 10 of shape (5, 6). After creating the array perform the following operations:\n",
    "#  a)Extract all even integers from array.\n",
    "#  b)Extract all odd integers from array\n",
    "\n",
    "arr = np.random.randint(1,10,size=(5,6))\n",
    "print(\"Array of random integers:\\n\",arr)\n",
    "\n",
    "#  a)Extract all even integers from array.\n",
    "even = arr[arr%2==0]\n",
    "print(\"Even no\\n\", even)\n",
    "\n",
    "#  b)Extract all odd integers from array\n",
    "odd = arr[arr%2!=0]\n",
    "print(\"Odd no\\n\",odd)"
   ]
  },
  {
   "cell_type": "code",
   "execution_count": 48,
   "metadata": {},
   "outputs": [
    {
     "name": "stdout",
     "output_type": "stream",
     "text": [
      "Array of random integers:\n",
      " [[[4 9 8]\n",
      "  [6 7 3]\n",
      "  [3 7 4]]\n",
      "\n",
      " [[2 5 7]\n",
      "  [6 9 9]\n",
      "  [4 5 3]]\n",
      "\n",
      " [[8 3 3]\n",
      "  [4 1 4]\n",
      "  [9 4 6]]]\n",
      "Indices of maximum value:\n",
      " [[1 1 1]\n",
      " [2 1 1]\n",
      " [0 0 0]]\n",
      "Multiplication b/w both array:\n",
      " [[[ 4  9  8]\n",
      "  [12  7  3]\n",
      "  [ 0  0  0]]\n",
      "\n",
      " [[ 2  5  7]\n",
      "  [12  9  9]\n",
      "  [ 0  0  0]]\n",
      "\n",
      " [[ 8  3  3]\n",
      "  [ 8  1  4]\n",
      "  [ 0  0  0]]]\n"
     ]
    }
   ],
   "source": [
    "#Q6   Create a 3D NumPy array of shape (3, 3, 3) containing random integers between 1 and 10. Perform the following operations:\n",
    "#  a) Find the indices of the maximum values along each depth level (third axis).\n",
    "#  b) Perform element-wise multiplication of between both array\n",
    "\n",
    "arr = np.random.randint(1,10, size=(3,3,3))\n",
    "print(\"Array of random integers:\\n\",arr)\n",
    "\n",
    "#  a) Find the indices of the maximum values along each depth level (third axis).\n",
    "max_indices = np.argmax(arr,axis=2)\n",
    "print(\"Indices of maximum value:\\n\",max_indices)\n",
    "\n",
    "#  b) Perform element-wise multiplication of between both array\n",
    "print(\"Multiplication b/w both array:\\n\", arr*max_indices)"
   ]
  },
  {
   "cell_type": "code",
   "execution_count": 49,
   "metadata": {},
   "outputs": [
    {
     "name": "stdout",
     "output_type": "stream",
     "text": [
      "     Index          User Id First Name Last Name  Gender  \\\n",
      "0        1  8717bbf45cCDbEe     Shelia   Mahoney    Male   \n",
      "1        2  3d5AD30A4cD38ed         Jo    Rivers  Female   \n",
      "2        3  810Ce0F276Badec     Sheryl    Lowery  Female   \n",
      "3        4  BF2a889C00f0cE1    Whitney    Hooper    Male   \n",
      "4        5  9afFEafAe1CBBB9    Lindsey      Rice  Female   \n",
      "..     ...              ...        ...       ...     ...   \n",
      "995    996  fedF4c7Fd9e7cFa       Kurt    Bryant  Female   \n",
      "996    997  ECddaFEDdEc4FAB      Donna     Barry  Female   \n",
      "997    998  2adde51d8B8979E      Cathy  Mckinney  Female   \n",
      "998    999  Fb2FE369D1E171A   Jermaine    Phelps    Male   \n",
      "999   1000  8b756f6231DDC6e        Lee      Tran  Female   \n",
      "\n",
      "                             Email             Phone Date of birth  \\\n",
      "0              pwarner@example.org        8571398239    27-01-2014   \n",
      "1    fergusonkatherine@example.net               NaN    26-07-1931   \n",
      "2              fhoward@example.org        5997820605    25-11-2013   \n",
      "3            zjohnston@example.com               NaN    17-11-2012   \n",
      "4                 elin@example.net    39041716353010    15-04-1923   \n",
      "..                             ...               ...           ...   \n",
      "995         lyonsdaisy@example.net        0217752933    05-01-1959   \n",
      "996        dariusbryan@example.com  0011497107799721    06-10-2001   \n",
      "997         georgechan@example.org  1750774412833265    13-05-1918   \n",
      "998            wanda04@example.net        9152922254    31-08-1971   \n",
      "999        deannablack@example.org   079752542467259    24-01-1947   \n",
      "\n",
      "                           Job Title  Salary  \n",
      "0                  Probation officer   90000  \n",
      "1                             Dancer   80000  \n",
      "2                               Copy   50000  \n",
      "3           Counselling psychologist   65000  \n",
      "4                Biomedical engineer  100000  \n",
      "..                               ...     ...  \n",
      "995                Personnel officer   90000  \n",
      "996          Education administrator   50000  \n",
      "997  Commercial/residential surveyor   60000  \n",
      "998                 Ambulance person  100000  \n",
      "999       Nurse, learning disability   90000  \n",
      "\n",
      "[1000 rows x 10 columns]\n",
      "\n",
      "\n",
      "<class 'pandas.core.frame.DataFrame'>\n",
      "RangeIndex: 1000 entries, 0 to 999\n",
      "Data columns (total 10 columns):\n",
      " #   Column         Non-Null Count  Dtype  \n",
      "---  ------         --------------  -----  \n",
      " 0   Index          1000 non-null   int64  \n",
      " 1   User Id        1000 non-null   object \n",
      " 2   First Name     1000 non-null   object \n",
      " 3   Last Name      1000 non-null   object \n",
      " 4   Gender         1000 non-null   object \n",
      " 5   Email          1000 non-null   object \n",
      " 6   Phone          979 non-null    float64\n",
      " 7   Date of birth  1000 non-null   object \n",
      " 8   Job Title      1000 non-null   object \n",
      " 9   Salary         1000 non-null   int64  \n",
      "dtypes: float64(1), int64(2), object(7)\n",
      "memory usage: 78.3+ KB\n"
     ]
    }
   ],
   "source": [
    "#Q7   Clean and transform the 'Phone' column in the sample dataset to remove non-numeric characters and\n",
    "#    convert it to a numeric data type Also display the table attributes and data types of each column\n",
    "\n",
    "# code->\n",
    "# load csv file\n",
    "df = pd.read_csv('People Data.csv')\n",
    "\n",
    "# remove non-numeric char.\n",
    "df['Phone'] = df['Phone'].str.replace(r'\\D','', regex=True)\n",
    "print(df)\n",
    "print(\"\\n\")\n",
    "# convert datatype to numeric\n",
    "df['Phone'] = pd.to_numeric(df['Phone'])\n",
    "\n",
    "# display table attributes and datatype of each column\n",
    "df.info()"
   ]
  },
  {
   "cell_type": "code",
   "execution_count": 50,
   "metadata": {},
   "outputs": [],
   "source": [
    "#Q8  Perform the following tasks using people dataset:\n",
    "#      a) Read the 'data.csv' file using pandas, skipping the first 50 rows.\n",
    "#      b) Only read the columns: 'Last Name', ‘Gender’,’Email’,‘Phone’ and ‘Salary’ from the file.\n",
    "#      c) Display the first 10 rows of the filtered dataset.\n",
    "#      d) Extract the ‘Salary’' column as a Series and display its last 5 values\n",
    "\n"
   ]
  },
  {
   "cell_type": "code",
   "execution_count": 51,
   "metadata": {},
   "outputs": [
    {
     "data": {
      "text/html": [
       "<div>\n",
       "<style scoped>\n",
       "    .dataframe tbody tr th:only-of-type {\n",
       "        vertical-align: middle;\n",
       "    }\n",
       "\n",
       "    .dataframe tbody tr th {\n",
       "        vertical-align: top;\n",
       "    }\n",
       "\n",
       "    .dataframe thead th {\n",
       "        text-align: right;\n",
       "    }\n",
       "</style>\n",
       "<table border=\"1\" class=\"dataframe\">\n",
       "  <thead>\n",
       "    <tr style=\"text-align: right;\">\n",
       "      <th></th>\n",
       "      <th>51</th>\n",
       "      <th>CccE5DAb6E288e5</th>\n",
       "      <th>Jo</th>\n",
       "      <th>Zavala</th>\n",
       "      <th>Male</th>\n",
       "      <th>pamela64@example.net</th>\n",
       "      <th>001-859-448-9935x54536</th>\n",
       "      <th>23-11-1992</th>\n",
       "      <th>Nurse, adult</th>\n",
       "      <th>80000</th>\n",
       "    </tr>\n",
       "  </thead>\n",
       "  <tbody>\n",
       "    <tr>\n",
       "      <th>0</th>\n",
       "      <td>52</td>\n",
       "      <td>DfBDc3621D4bcec</td>\n",
       "      <td>Joshua</td>\n",
       "      <td>Carey</td>\n",
       "      <td>Female</td>\n",
       "      <td>dianashepherd@example.net</td>\n",
       "      <td>001-274-739-8470x814</td>\n",
       "      <td>07-01-1915</td>\n",
       "      <td>Seismic interpreter</td>\n",
       "      <td>70000</td>\n",
       "    </tr>\n",
       "    <tr>\n",
       "      <th>1</th>\n",
       "      <td>53</td>\n",
       "      <td>f55b0A249f5E44D</td>\n",
       "      <td>Rickey</td>\n",
       "      <td>Hobbs</td>\n",
       "      <td>Female</td>\n",
       "      <td>ingramtiffany@example.org</td>\n",
       "      <td>241.179.9509x498</td>\n",
       "      <td>01-07-1910</td>\n",
       "      <td>Barrister</td>\n",
       "      <td>60000</td>\n",
       "    </tr>\n",
       "    <tr>\n",
       "      <th>2</th>\n",
       "      <td>54</td>\n",
       "      <td>Ed71DcfaBFd0beE</td>\n",
       "      <td>Robyn</td>\n",
       "      <td>Reilly</td>\n",
       "      <td>Male</td>\n",
       "      <td>carriecrawford@example.org</td>\n",
       "      <td>207.797.8345x6177</td>\n",
       "      <td>27-07-1982</td>\n",
       "      <td>Engineer, structural</td>\n",
       "      <td>100000</td>\n",
       "    </tr>\n",
       "    <tr>\n",
       "      <th>3</th>\n",
       "      <td>55</td>\n",
       "      <td>FDaFD0c3f5387EC</td>\n",
       "      <td>Christina</td>\n",
       "      <td>Conrad</td>\n",
       "      <td>Male</td>\n",
       "      <td>fuentesclaudia@example.net</td>\n",
       "      <td>001-599-042-7428x143</td>\n",
       "      <td>06-01-1998</td>\n",
       "      <td>Producer, radio</td>\n",
       "      <td>50000</td>\n",
       "    </tr>\n",
       "    <tr>\n",
       "      <th>4</th>\n",
       "      <td>56</td>\n",
       "      <td>998C3Fda97EfAff</td>\n",
       "      <td>Shelby</td>\n",
       "      <td>Cole</td>\n",
       "      <td>Male</td>\n",
       "      <td>kaneaudrey@example.org</td>\n",
       "      <td>663-280-5834</td>\n",
       "      <td>18-08-1975</td>\n",
       "      <td>Therapist, nutritional</td>\n",
       "      <td>85000</td>\n",
       "    </tr>\n",
       "    <tr>\n",
       "      <th>...</th>\n",
       "      <td>...</td>\n",
       "      <td>...</td>\n",
       "      <td>...</td>\n",
       "      <td>...</td>\n",
       "      <td>...</td>\n",
       "      <td>...</td>\n",
       "      <td>...</td>\n",
       "      <td>...</td>\n",
       "      <td>...</td>\n",
       "      <td>...</td>\n",
       "    </tr>\n",
       "    <tr>\n",
       "      <th>944</th>\n",
       "      <td>996</td>\n",
       "      <td>fedF4c7Fd9e7cFa</td>\n",
       "      <td>Kurt</td>\n",
       "      <td>Bryant</td>\n",
       "      <td>Female</td>\n",
       "      <td>lyonsdaisy@example.net</td>\n",
       "      <td>021.775.2933</td>\n",
       "      <td>05-01-1959</td>\n",
       "      <td>Personnel officer</td>\n",
       "      <td>90000</td>\n",
       "    </tr>\n",
       "    <tr>\n",
       "      <th>945</th>\n",
       "      <td>997</td>\n",
       "      <td>ECddaFEDdEc4FAB</td>\n",
       "      <td>Donna</td>\n",
       "      <td>Barry</td>\n",
       "      <td>Female</td>\n",
       "      <td>dariusbryan@example.com</td>\n",
       "      <td>001-149-710-7799x721</td>\n",
       "      <td>06-10-2001</td>\n",
       "      <td>Education administrator</td>\n",
       "      <td>50000</td>\n",
       "    </tr>\n",
       "    <tr>\n",
       "      <th>946</th>\n",
       "      <td>998</td>\n",
       "      <td>2adde51d8B8979E</td>\n",
       "      <td>Cathy</td>\n",
       "      <td>Mckinney</td>\n",
       "      <td>Female</td>\n",
       "      <td>georgechan@example.org</td>\n",
       "      <td>+1-750-774-4128x33265</td>\n",
       "      <td>13-05-1918</td>\n",
       "      <td>Commercial/residential surveyor</td>\n",
       "      <td>60000</td>\n",
       "    </tr>\n",
       "    <tr>\n",
       "      <th>947</th>\n",
       "      <td>999</td>\n",
       "      <td>Fb2FE369D1E171A</td>\n",
       "      <td>Jermaine</td>\n",
       "      <td>Phelps</td>\n",
       "      <td>Male</td>\n",
       "      <td>wanda04@example.net</td>\n",
       "      <td>(915)292-2254</td>\n",
       "      <td>31-08-1971</td>\n",
       "      <td>Ambulance person</td>\n",
       "      <td>100000</td>\n",
       "    </tr>\n",
       "    <tr>\n",
       "      <th>948</th>\n",
       "      <td>1000</td>\n",
       "      <td>8b756f6231DDC6e</td>\n",
       "      <td>Lee</td>\n",
       "      <td>Tran</td>\n",
       "      <td>Female</td>\n",
       "      <td>deannablack@example.org</td>\n",
       "      <td>079.752.5424x67259</td>\n",
       "      <td>24-01-1947</td>\n",
       "      <td>Nurse, learning disability</td>\n",
       "      <td>90000</td>\n",
       "    </tr>\n",
       "  </tbody>\n",
       "</table>\n",
       "<p>949 rows × 10 columns</p>\n",
       "</div>"
      ],
      "text/plain": [
       "       51  CccE5DAb6E288e5         Jo    Zavala    Male  \\\n",
       "0      52  DfBDc3621D4bcec     Joshua     Carey  Female   \n",
       "1      53  f55b0A249f5E44D     Rickey     Hobbs  Female   \n",
       "2      54  Ed71DcfaBFd0beE      Robyn    Reilly    Male   \n",
       "3      55  FDaFD0c3f5387EC  Christina    Conrad    Male   \n",
       "4      56  998C3Fda97EfAff     Shelby      Cole    Male   \n",
       "..    ...              ...        ...       ...     ...   \n",
       "944   996  fedF4c7Fd9e7cFa       Kurt    Bryant  Female   \n",
       "945   997  ECddaFEDdEc4FAB      Donna     Barry  Female   \n",
       "946   998  2adde51d8B8979E      Cathy  Mckinney  Female   \n",
       "947   999  Fb2FE369D1E171A   Jermaine    Phelps    Male   \n",
       "948  1000  8b756f6231DDC6e        Lee      Tran  Female   \n",
       "\n",
       "           pamela64@example.net 001-859-448-9935x54536  23-11-1992  \\\n",
       "0     dianashepherd@example.net   001-274-739-8470x814  07-01-1915   \n",
       "1     ingramtiffany@example.org       241.179.9509x498  01-07-1910   \n",
       "2    carriecrawford@example.org      207.797.8345x6177  27-07-1982   \n",
       "3    fuentesclaudia@example.net   001-599-042-7428x143  06-01-1998   \n",
       "4        kaneaudrey@example.org           663-280-5834  18-08-1975   \n",
       "..                          ...                    ...         ...   \n",
       "944      lyonsdaisy@example.net           021.775.2933  05-01-1959   \n",
       "945     dariusbryan@example.com   001-149-710-7799x721  06-10-2001   \n",
       "946      georgechan@example.org  +1-750-774-4128x33265  13-05-1918   \n",
       "947         wanda04@example.net          (915)292-2254  31-08-1971   \n",
       "948     deannablack@example.org     079.752.5424x67259  24-01-1947   \n",
       "\n",
       "                        Nurse, adult   80000  \n",
       "0                Seismic interpreter   70000  \n",
       "1                          Barrister   60000  \n",
       "2               Engineer, structural  100000  \n",
       "3                    Producer, radio   50000  \n",
       "4             Therapist, nutritional   85000  \n",
       "..                               ...     ...  \n",
       "944                Personnel officer   90000  \n",
       "945          Education administrator   50000  \n",
       "946  Commercial/residential surveyor   60000  \n",
       "947                 Ambulance person  100000  \n",
       "948       Nurse, learning disability   90000  \n",
       "\n",
       "[949 rows x 10 columns]"
      ]
     },
     "execution_count": 51,
     "metadata": {},
     "output_type": "execute_result"
    }
   ],
   "source": [
    "#code ->\n",
    "#      a) Read the 'dataYcsv' file using pandas, skipping the first 50 rows\n",
    "df1 = pd.read_csv('People Data.csv', skiprows=51)\n",
    "df1"
   ]
  },
  {
   "cell_type": "code",
   "execution_count": 52,
   "metadata": {},
   "outputs": [
    {
     "data": {
      "text/html": [
       "<div>\n",
       "<style scoped>\n",
       "    .dataframe tbody tr th:only-of-type {\n",
       "        vertical-align: middle;\n",
       "    }\n",
       "\n",
       "    .dataframe tbody tr th {\n",
       "        vertical-align: top;\n",
       "    }\n",
       "\n",
       "    .dataframe thead th {\n",
       "        text-align: right;\n",
       "    }\n",
       "</style>\n",
       "<table border=\"1\" class=\"dataframe\">\n",
       "  <thead>\n",
       "    <tr style=\"text-align: right;\">\n",
       "      <th></th>\n",
       "      <th>Last Name</th>\n",
       "      <th>Gender</th>\n",
       "      <th>Email</th>\n",
       "      <th>Phone</th>\n",
       "      <th>Salary</th>\n",
       "    </tr>\n",
       "  </thead>\n",
       "  <tbody>\n",
       "    <tr>\n",
       "      <th>0</th>\n",
       "      <td>Mahoney</td>\n",
       "      <td>Male</td>\n",
       "      <td>pwarner@example.org</td>\n",
       "      <td>8.571398e+09</td>\n",
       "      <td>90000</td>\n",
       "    </tr>\n",
       "    <tr>\n",
       "      <th>1</th>\n",
       "      <td>Rivers</td>\n",
       "      <td>Female</td>\n",
       "      <td>fergusonkatherine@example.net</td>\n",
       "      <td>NaN</td>\n",
       "      <td>80000</td>\n",
       "    </tr>\n",
       "    <tr>\n",
       "      <th>2</th>\n",
       "      <td>Lowery</td>\n",
       "      <td>Female</td>\n",
       "      <td>fhoward@example.org</td>\n",
       "      <td>5.997821e+09</td>\n",
       "      <td>50000</td>\n",
       "    </tr>\n",
       "    <tr>\n",
       "      <th>3</th>\n",
       "      <td>Hooper</td>\n",
       "      <td>Male</td>\n",
       "      <td>zjohnston@example.com</td>\n",
       "      <td>NaN</td>\n",
       "      <td>65000</td>\n",
       "    </tr>\n",
       "    <tr>\n",
       "      <th>4</th>\n",
       "      <td>Rice</td>\n",
       "      <td>Female</td>\n",
       "      <td>elin@example.net</td>\n",
       "      <td>3.904172e+13</td>\n",
       "      <td>100000</td>\n",
       "    </tr>\n",
       "    <tr>\n",
       "      <th>...</th>\n",
       "      <td>...</td>\n",
       "      <td>...</td>\n",
       "      <td>...</td>\n",
       "      <td>...</td>\n",
       "      <td>...</td>\n",
       "    </tr>\n",
       "    <tr>\n",
       "      <th>995</th>\n",
       "      <td>Bryant</td>\n",
       "      <td>Female</td>\n",
       "      <td>lyonsdaisy@example.net</td>\n",
       "      <td>2.177529e+08</td>\n",
       "      <td>90000</td>\n",
       "    </tr>\n",
       "    <tr>\n",
       "      <th>996</th>\n",
       "      <td>Barry</td>\n",
       "      <td>Female</td>\n",
       "      <td>dariusbryan@example.com</td>\n",
       "      <td>1.149711e+13</td>\n",
       "      <td>50000</td>\n",
       "    </tr>\n",
       "    <tr>\n",
       "      <th>997</th>\n",
       "      <td>Mckinney</td>\n",
       "      <td>Female</td>\n",
       "      <td>georgechan@example.org</td>\n",
       "      <td>1.750774e+15</td>\n",
       "      <td>60000</td>\n",
       "    </tr>\n",
       "    <tr>\n",
       "      <th>998</th>\n",
       "      <td>Phelps</td>\n",
       "      <td>Male</td>\n",
       "      <td>wanda04@example.net</td>\n",
       "      <td>9.152922e+09</td>\n",
       "      <td>100000</td>\n",
       "    </tr>\n",
       "    <tr>\n",
       "      <th>999</th>\n",
       "      <td>Tran</td>\n",
       "      <td>Female</td>\n",
       "      <td>deannablack@example.org</td>\n",
       "      <td>7.975254e+13</td>\n",
       "      <td>90000</td>\n",
       "    </tr>\n",
       "  </tbody>\n",
       "</table>\n",
       "<p>1000 rows × 5 columns</p>\n",
       "</div>"
      ],
      "text/plain": [
       "    Last Name  Gender                          Email         Phone  Salary\n",
       "0     Mahoney    Male            pwarner@example.org  8.571398e+09   90000\n",
       "1      Rivers  Female  fergusonkatherine@example.net           NaN   80000\n",
       "2      Lowery  Female            fhoward@example.org  5.997821e+09   50000\n",
       "3      Hooper    Male          zjohnston@example.com           NaN   65000\n",
       "4        Rice  Female               elin@example.net  3.904172e+13  100000\n",
       "..        ...     ...                            ...           ...     ...\n",
       "995    Bryant  Female         lyonsdaisy@example.net  2.177529e+08   90000\n",
       "996     Barry  Female        dariusbryan@example.com  1.149711e+13   50000\n",
       "997  Mckinney  Female         georgechan@example.org  1.750774e+15   60000\n",
       "998    Phelps    Male            wanda04@example.net  9.152922e+09  100000\n",
       "999      Tran  Female        deannablack@example.org  7.975254e+13   90000\n",
       "\n",
       "[1000 rows x 5 columns]"
      ]
     },
     "execution_count": 52,
     "metadata": {},
     "output_type": "execute_result"
    }
   ],
   "source": [
    "#      b) Only read the columns: 'Last Name', ‘Gender’,’Email’,‘Phone’ and ‘Salary’ from the file.\n",
    "filtered_data = df[['Last Name', 'Gender', 'Email', 'Phone', 'Salary']]\n",
    "filtered_data"
   ]
  },
  {
   "cell_type": "code",
   "execution_count": 53,
   "metadata": {},
   "outputs": [
    {
     "data": {
      "text/html": [
       "<div>\n",
       "<style scoped>\n",
       "    .dataframe tbody tr th:only-of-type {\n",
       "        vertical-align: middle;\n",
       "    }\n",
       "\n",
       "    .dataframe tbody tr th {\n",
       "        vertical-align: top;\n",
       "    }\n",
       "\n",
       "    .dataframe thead th {\n",
       "        text-align: right;\n",
       "    }\n",
       "</style>\n",
       "<table border=\"1\" class=\"dataframe\">\n",
       "  <thead>\n",
       "    <tr style=\"text-align: right;\">\n",
       "      <th></th>\n",
       "      <th>Last Name</th>\n",
       "      <th>Gender</th>\n",
       "      <th>Email</th>\n",
       "      <th>Phone</th>\n",
       "      <th>Salary</th>\n",
       "    </tr>\n",
       "  </thead>\n",
       "  <tbody>\n",
       "    <tr>\n",
       "      <th>0</th>\n",
       "      <td>Mahoney</td>\n",
       "      <td>Male</td>\n",
       "      <td>pwarner@example.org</td>\n",
       "      <td>8.571398e+09</td>\n",
       "      <td>90000</td>\n",
       "    </tr>\n",
       "    <tr>\n",
       "      <th>1</th>\n",
       "      <td>Rivers</td>\n",
       "      <td>Female</td>\n",
       "      <td>fergusonkatherine@example.net</td>\n",
       "      <td>NaN</td>\n",
       "      <td>80000</td>\n",
       "    </tr>\n",
       "    <tr>\n",
       "      <th>2</th>\n",
       "      <td>Lowery</td>\n",
       "      <td>Female</td>\n",
       "      <td>fhoward@example.org</td>\n",
       "      <td>5.997821e+09</td>\n",
       "      <td>50000</td>\n",
       "    </tr>\n",
       "    <tr>\n",
       "      <th>3</th>\n",
       "      <td>Hooper</td>\n",
       "      <td>Male</td>\n",
       "      <td>zjohnston@example.com</td>\n",
       "      <td>NaN</td>\n",
       "      <td>65000</td>\n",
       "    </tr>\n",
       "    <tr>\n",
       "      <th>4</th>\n",
       "      <td>Rice</td>\n",
       "      <td>Female</td>\n",
       "      <td>elin@example.net</td>\n",
       "      <td>3.904172e+13</td>\n",
       "      <td>100000</td>\n",
       "    </tr>\n",
       "    <tr>\n",
       "      <th>5</th>\n",
       "      <td>Caldwell</td>\n",
       "      <td>Male</td>\n",
       "      <td>kaitlin13@example.net</td>\n",
       "      <td>8.537801e+09</td>\n",
       "      <td>50000</td>\n",
       "    </tr>\n",
       "    <tr>\n",
       "      <th>6</th>\n",
       "      <td>Hoffman</td>\n",
       "      <td>Male</td>\n",
       "      <td>jeffharvey@example.com</td>\n",
       "      <td>9.365575e+12</td>\n",
       "      <td>60000</td>\n",
       "    </tr>\n",
       "    <tr>\n",
       "      <th>7</th>\n",
       "      <td>Andersen</td>\n",
       "      <td>Male</td>\n",
       "      <td>alicia33@example.org</td>\n",
       "      <td>4.709523e+09</td>\n",
       "      <td>65000</td>\n",
       "    </tr>\n",
       "    <tr>\n",
       "      <th>8</th>\n",
       "      <td>Mays</td>\n",
       "      <td>Male</td>\n",
       "      <td>jake50@example.com</td>\n",
       "      <td>1.382048e+08</td>\n",
       "      <td>50000</td>\n",
       "    </tr>\n",
       "    <tr>\n",
       "      <th>9</th>\n",
       "      <td>Mitchell</td>\n",
       "      <td>Male</td>\n",
       "      <td>lanechristina@example.net</td>\n",
       "      <td>5.609035e+13</td>\n",
       "      <td>50000</td>\n",
       "    </tr>\n",
       "  </tbody>\n",
       "</table>\n",
       "</div>"
      ],
      "text/plain": [
       "  Last Name  Gender                          Email         Phone  Salary\n",
       "0   Mahoney    Male            pwarner@example.org  8.571398e+09   90000\n",
       "1    Rivers  Female  fergusonkatherine@example.net           NaN   80000\n",
       "2    Lowery  Female            fhoward@example.org  5.997821e+09   50000\n",
       "3    Hooper    Male          zjohnston@example.com           NaN   65000\n",
       "4      Rice  Female               elin@example.net  3.904172e+13  100000\n",
       "5  Caldwell    Male          kaitlin13@example.net  8.537801e+09   50000\n",
       "6   Hoffman    Male         jeffharvey@example.com  9.365575e+12   60000\n",
       "7  Andersen    Male           alicia33@example.org  4.709523e+09   65000\n",
       "8      Mays    Male             jake50@example.com  1.382048e+08   50000\n",
       "9  Mitchell    Male      lanechristina@example.net  5.609035e+13   50000"
      ]
     },
     "execution_count": 53,
     "metadata": {},
     "output_type": "execute_result"
    }
   ],
   "source": [
    "#     c) Display the first 10 rows of the filtered dataset.\n",
    "filtered_data.head(10)"
   ]
  },
  {
   "cell_type": "code",
   "execution_count": 54,
   "metadata": {},
   "outputs": [
    {
     "data": {
      "text/plain": [
       "995    2.177529e+08\n",
       "996    1.149711e+13\n",
       "997    1.750774e+15\n",
       "998    9.152922e+09\n",
       "999    7.975254e+13\n",
       "Name: Phone, dtype: float64"
      ]
     },
     "execution_count": 54,
     "metadata": {},
     "output_type": "execute_result"
    }
   ],
   "source": [
    "#     d) Extract the ‘Salary’' column as a Series and display its last 5 values\n",
    "df['Phone'].tail()"
   ]
  },
  {
   "cell_type": "code",
   "execution_count": 55,
   "metadata": {},
   "outputs": [
    {
     "data": {
      "text/html": [
       "<div>\n",
       "<style scoped>\n",
       "    .dataframe tbody tr th:only-of-type {\n",
       "        vertical-align: middle;\n",
       "    }\n",
       "\n",
       "    .dataframe tbody tr th {\n",
       "        vertical-align: top;\n",
       "    }\n",
       "\n",
       "    .dataframe thead th {\n",
       "        text-align: right;\n",
       "    }\n",
       "</style>\n",
       "<table border=\"1\" class=\"dataframe\">\n",
       "  <thead>\n",
       "    <tr style=\"text-align: right;\">\n",
       "      <th></th>\n",
       "      <th>Index</th>\n",
       "      <th>User Id</th>\n",
       "      <th>First Name</th>\n",
       "      <th>Last Name</th>\n",
       "      <th>Gender</th>\n",
       "      <th>Email</th>\n",
       "      <th>Phone</th>\n",
       "      <th>Date of birth</th>\n",
       "      <th>Job Title</th>\n",
       "      <th>Salary</th>\n",
       "    </tr>\n",
       "  </thead>\n",
       "  <tbody>\n",
       "  </tbody>\n",
       "</table>\n",
       "</div>"
      ],
      "text/plain": [
       "Empty DataFrame\n",
       "Columns: [Index, User Id, First Name, Last Name, Gender, Email, Phone, Date of birth, Job Title, Salary]\n",
       "Index: []"
      ]
     },
     "execution_count": 55,
     "metadata": {},
     "output_type": "execute_result"
    }
   ],
   "source": [
    "#Q9   Filter and select rows from the People_Dataset, where the “Last Name' column contains the name 'Duke',\n",
    "#    'Gender' column contains the word Female and ‘salary’ should Pe less than 85000\n",
    "\n",
    "duke = df[(df['Last Name']=='Duke`') & (df['Gender']=='Female') & (df['Salary']>85000)]\n",
    "duke"
   ]
  },
  {
   "cell_type": "code",
   "execution_count": 56,
   "metadata": {},
   "outputs": [
    {
     "data": {
      "text/html": [
       "<div>\n",
       "<style scoped>\n",
       "    .dataframe tbody tr th:only-of-type {\n",
       "        vertical-align: middle;\n",
       "    }\n",
       "\n",
       "    .dataframe tbody tr th {\n",
       "        vertical-align: top;\n",
       "    }\n",
       "\n",
       "    .dataframe thead th {\n",
       "        text-align: right;\n",
       "    }\n",
       "</style>\n",
       "<table border=\"1\" class=\"dataframe\">\n",
       "  <thead>\n",
       "    <tr style=\"text-align: right;\">\n",
       "      <th></th>\n",
       "      <th>col1</th>\n",
       "      <th>col2</th>\n",
       "      <th>col3</th>\n",
       "      <th>col4</th>\n",
       "      <th>col5</th>\n",
       "    </tr>\n",
       "  </thead>\n",
       "  <tbody>\n",
       "    <tr>\n",
       "      <th>0</th>\n",
       "      <td>2</td>\n",
       "      <td>4</td>\n",
       "      <td>3</td>\n",
       "      <td>4</td>\n",
       "      <td>5</td>\n",
       "    </tr>\n",
       "    <tr>\n",
       "      <th>1</th>\n",
       "      <td>3</td>\n",
       "      <td>4</td>\n",
       "      <td>4</td>\n",
       "      <td>3</td>\n",
       "      <td>5</td>\n",
       "    </tr>\n",
       "    <tr>\n",
       "      <th>2</th>\n",
       "      <td>1</td>\n",
       "      <td>3</td>\n",
       "      <td>2</td>\n",
       "      <td>3</td>\n",
       "      <td>4</td>\n",
       "    </tr>\n",
       "    <tr>\n",
       "      <th>3</th>\n",
       "      <td>5</td>\n",
       "      <td>5</td>\n",
       "      <td>2</td>\n",
       "      <td>2</td>\n",
       "      <td>1</td>\n",
       "    </tr>\n",
       "    <tr>\n",
       "      <th>4</th>\n",
       "      <td>2</td>\n",
       "      <td>3</td>\n",
       "      <td>1</td>\n",
       "      <td>2</td>\n",
       "      <td>4</td>\n",
       "    </tr>\n",
       "    <tr>\n",
       "      <th>5</th>\n",
       "      <td>5</td>\n",
       "      <td>5</td>\n",
       "      <td>2</td>\n",
       "      <td>1</td>\n",
       "      <td>3</td>\n",
       "    </tr>\n",
       "    <tr>\n",
       "      <th>6</th>\n",
       "      <td>5</td>\n",
       "      <td>1</td>\n",
       "      <td>5</td>\n",
       "      <td>2</td>\n",
       "      <td>2</td>\n",
       "    </tr>\n",
       "  </tbody>\n",
       "</table>\n",
       "</div>"
      ],
      "text/plain": [
       "   col1  col2  col3  col4  col5\n",
       "0     2     4     3     4     5\n",
       "1     3     4     4     3     5\n",
       "2     1     3     2     3     4\n",
       "3     5     5     2     2     1\n",
       "4     2     3     1     2     4\n",
       "5     5     5     2     1     3\n",
       "6     5     1     5     2     2"
      ]
     },
     "execution_count": 56,
     "metadata": {},
     "output_type": "execute_result"
    }
   ],
   "source": [
    "#Q10  Create a 7*5. Dataframe in Pandas using a series generated from 35 random integers between 1 to 6?\n",
    "\n",
    "# code->\n",
    "arr = np.random.randint(1,6,35)\n",
    "\n",
    "df = pd.DataFrame(arr.reshape(7,5), columns=[f'col{i}' for i in range(1,6)])\n",
    "df\n"
   ]
  },
  {
   "cell_type": "code",
   "execution_count": 57,
   "metadata": {},
   "outputs": [
    {
     "data": {
      "text/html": [
       "<div>\n",
       "<style scoped>\n",
       "    .dataframe tbody tr th:only-of-type {\n",
       "        vertical-align: middle;\n",
       "    }\n",
       "\n",
       "    .dataframe tbody tr th {\n",
       "        vertical-align: top;\n",
       "    }\n",
       "\n",
       "    .dataframe thead th {\n",
       "        text-align: right;\n",
       "    }\n",
       "</style>\n",
       "<table border=\"1\" class=\"dataframe\">\n",
       "  <thead>\n",
       "    <tr style=\"text-align: right;\">\n",
       "      <th></th>\n",
       "      <th>col1</th>\n",
       "      <th>col2</th>\n",
       "    </tr>\n",
       "  </thead>\n",
       "  <tbody>\n",
       "    <tr>\n",
       "      <th>0</th>\n",
       "      <td>45</td>\n",
       "      <td>503</td>\n",
       "    </tr>\n",
       "    <tr>\n",
       "      <th>1</th>\n",
       "      <td>43</td>\n",
       "      <td>828</td>\n",
       "    </tr>\n",
       "    <tr>\n",
       "      <th>2</th>\n",
       "      <td>13</td>\n",
       "      <td>391</td>\n",
       "    </tr>\n",
       "    <tr>\n",
       "      <th>3</th>\n",
       "      <td>39</td>\n",
       "      <td>102</td>\n",
       "    </tr>\n",
       "    <tr>\n",
       "      <th>4</th>\n",
       "      <td>25</td>\n",
       "      <td>492</td>\n",
       "    </tr>\n",
       "    <tr>\n",
       "      <th>5</th>\n",
       "      <td>29</td>\n",
       "      <td>718</td>\n",
       "    </tr>\n",
       "    <tr>\n",
       "      <th>6</th>\n",
       "      <td>30</td>\n",
       "      <td>328</td>\n",
       "    </tr>\n",
       "    <tr>\n",
       "      <th>7</th>\n",
       "      <td>14</td>\n",
       "      <td>884</td>\n",
       "    </tr>\n",
       "    <tr>\n",
       "      <th>8</th>\n",
       "      <td>24</td>\n",
       "      <td>358</td>\n",
       "    </tr>\n",
       "    <tr>\n",
       "      <th>9</th>\n",
       "      <td>28</td>\n",
       "      <td>674</td>\n",
       "    </tr>\n",
       "    <tr>\n",
       "      <th>10</th>\n",
       "      <td>31</td>\n",
       "      <td>492</td>\n",
       "    </tr>\n",
       "    <tr>\n",
       "      <th>11</th>\n",
       "      <td>22</td>\n",
       "      <td>276</td>\n",
       "    </tr>\n",
       "    <tr>\n",
       "      <th>12</th>\n",
       "      <td>38</td>\n",
       "      <td>237</td>\n",
       "    </tr>\n",
       "    <tr>\n",
       "      <th>13</th>\n",
       "      <td>13</td>\n",
       "      <td>997</td>\n",
       "    </tr>\n",
       "    <tr>\n",
       "      <th>14</th>\n",
       "      <td>29</td>\n",
       "      <td>331</td>\n",
       "    </tr>\n",
       "    <tr>\n",
       "      <th>15</th>\n",
       "      <td>11</td>\n",
       "      <td>406</td>\n",
       "    </tr>\n",
       "    <tr>\n",
       "      <th>16</th>\n",
       "      <td>31</td>\n",
       "      <td>272</td>\n",
       "    </tr>\n",
       "    <tr>\n",
       "      <th>17</th>\n",
       "      <td>29</td>\n",
       "      <td>611</td>\n",
       "    </tr>\n",
       "    <tr>\n",
       "      <th>18</th>\n",
       "      <td>15</td>\n",
       "      <td>565</td>\n",
       "    </tr>\n",
       "    <tr>\n",
       "      <th>19</th>\n",
       "      <td>32</td>\n",
       "      <td>816</td>\n",
       "    </tr>\n",
       "    <tr>\n",
       "      <th>20</th>\n",
       "      <td>32</td>\n",
       "      <td>287</td>\n",
       "    </tr>\n",
       "    <tr>\n",
       "      <th>21</th>\n",
       "      <td>38</td>\n",
       "      <td>319</td>\n",
       "    </tr>\n",
       "    <tr>\n",
       "      <th>22</th>\n",
       "      <td>15</td>\n",
       "      <td>354</td>\n",
       "    </tr>\n",
       "    <tr>\n",
       "      <th>23</th>\n",
       "      <td>41</td>\n",
       "      <td>919</td>\n",
       "    </tr>\n",
       "    <tr>\n",
       "      <th>24</th>\n",
       "      <td>40</td>\n",
       "      <td>478</td>\n",
       "    </tr>\n",
       "    <tr>\n",
       "      <th>25</th>\n",
       "      <td>26</td>\n",
       "      <td>260</td>\n",
       "    </tr>\n",
       "    <tr>\n",
       "      <th>26</th>\n",
       "      <td>36</td>\n",
       "      <td>405</td>\n",
       "    </tr>\n",
       "    <tr>\n",
       "      <th>27</th>\n",
       "      <td>12</td>\n",
       "      <td>241</td>\n",
       "    </tr>\n",
       "    <tr>\n",
       "      <th>28</th>\n",
       "      <td>42</td>\n",
       "      <td>102</td>\n",
       "    </tr>\n",
       "    <tr>\n",
       "      <th>29</th>\n",
       "      <td>35</td>\n",
       "      <td>511</td>\n",
       "    </tr>\n",
       "    <tr>\n",
       "      <th>30</th>\n",
       "      <td>27</td>\n",
       "      <td>256</td>\n",
       "    </tr>\n",
       "    <tr>\n",
       "      <th>31</th>\n",
       "      <td>16</td>\n",
       "      <td>531</td>\n",
       "    </tr>\n",
       "    <tr>\n",
       "      <th>32</th>\n",
       "      <td>14</td>\n",
       "      <td>121</td>\n",
       "    </tr>\n",
       "    <tr>\n",
       "      <th>33</th>\n",
       "      <td>42</td>\n",
       "      <td>890</td>\n",
       "    </tr>\n",
       "    <tr>\n",
       "      <th>34</th>\n",
       "      <td>13</td>\n",
       "      <td>396</td>\n",
       "    </tr>\n",
       "    <tr>\n",
       "      <th>35</th>\n",
       "      <td>48</td>\n",
       "      <td>258</td>\n",
       "    </tr>\n",
       "    <tr>\n",
       "      <th>36</th>\n",
       "      <td>14</td>\n",
       "      <td>983</td>\n",
       "    </tr>\n",
       "    <tr>\n",
       "      <th>37</th>\n",
       "      <td>20</td>\n",
       "      <td>384</td>\n",
       "    </tr>\n",
       "    <tr>\n",
       "      <th>38</th>\n",
       "      <td>18</td>\n",
       "      <td>307</td>\n",
       "    </tr>\n",
       "    <tr>\n",
       "      <th>39</th>\n",
       "      <td>14</td>\n",
       "      <td>221</td>\n",
       "    </tr>\n",
       "    <tr>\n",
       "      <th>40</th>\n",
       "      <td>34</td>\n",
       "      <td>130</td>\n",
       "    </tr>\n",
       "    <tr>\n",
       "      <th>41</th>\n",
       "      <td>21</td>\n",
       "      <td>232</td>\n",
       "    </tr>\n",
       "    <tr>\n",
       "      <th>42</th>\n",
       "      <td>16</td>\n",
       "      <td>383</td>\n",
       "    </tr>\n",
       "    <tr>\n",
       "      <th>43</th>\n",
       "      <td>49</td>\n",
       "      <td>349</td>\n",
       "    </tr>\n",
       "    <tr>\n",
       "      <th>44</th>\n",
       "      <td>34</td>\n",
       "      <td>904</td>\n",
       "    </tr>\n",
       "    <tr>\n",
       "      <th>45</th>\n",
       "      <td>22</td>\n",
       "      <td>485</td>\n",
       "    </tr>\n",
       "    <tr>\n",
       "      <th>46</th>\n",
       "      <td>50</td>\n",
       "      <td>236</td>\n",
       "    </tr>\n",
       "    <tr>\n",
       "      <th>47</th>\n",
       "      <td>39</td>\n",
       "      <td>668</td>\n",
       "    </tr>\n",
       "    <tr>\n",
       "      <th>48</th>\n",
       "      <td>39</td>\n",
       "      <td>747</td>\n",
       "    </tr>\n",
       "    <tr>\n",
       "      <th>49</th>\n",
       "      <td>22</td>\n",
       "      <td>912</td>\n",
       "    </tr>\n",
       "  </tbody>\n",
       "</table>\n",
       "</div>"
      ],
      "text/plain": [
       "    col1  col2\n",
       "0     45   503\n",
       "1     43   828\n",
       "2     13   391\n",
       "3     39   102\n",
       "4     25   492\n",
       "5     29   718\n",
       "6     30   328\n",
       "7     14   884\n",
       "8     24   358\n",
       "9     28   674\n",
       "10    31   492\n",
       "11    22   276\n",
       "12    38   237\n",
       "13    13   997\n",
       "14    29   331\n",
       "15    11   406\n",
       "16    31   272\n",
       "17    29   611\n",
       "18    15   565\n",
       "19    32   816\n",
       "20    32   287\n",
       "21    38   319\n",
       "22    15   354\n",
       "23    41   919\n",
       "24    40   478\n",
       "25    26   260\n",
       "26    36   405\n",
       "27    12   241\n",
       "28    42   102\n",
       "29    35   511\n",
       "30    27   256\n",
       "31    16   531\n",
       "32    14   121\n",
       "33    42   890\n",
       "34    13   396\n",
       "35    48   258\n",
       "36    14   983\n",
       "37    20   384\n",
       "38    18   307\n",
       "39    14   221\n",
       "40    34   130\n",
       "41    21   232\n",
       "42    16   383\n",
       "43    49   349\n",
       "44    34   904\n",
       "45    22   485\n",
       "46    50   236\n",
       "47    39   668\n",
       "48    39   747\n",
       "49    22   912"
      ]
     },
     "execution_count": 57,
     "metadata": {},
     "output_type": "execute_result"
    }
   ],
   "source": [
    "#Q11 Create two different Series, each of length 50, with the following criteria:\n",
    "# a) The first Series should contain random numbers ranging from 10 to 50.\n",
    "# b) The second Series should contain random numbers ranging from 100 to 1000.\n",
    "# c) Create a DataFrame by 'joining these Series by column, and, change the names of the columns to 'col1', 'col2', etc\n",
    "\n",
    "# code->\n",
    "# a) The first Series should contain random numbers ranging from 10 to 50.\n",
    "series1 = pd.Series(np.random.randint(10,51,50))\n",
    "\n",
    "# b) The second Series should contain random numbers ranging from 100 to 1000.\n",
    "series2 = pd.Series(np.random.randint(100,1001,50))\n",
    "\n",
    "# c) Create a DataFrame by 'joining these Series by column, and, change the names of the columns to 'col1', 'col2', etc\n",
    "df = pd.DataFrame({'col1':series1, 'col2':series2})\n",
    "df\n"
   ]
  },
  {
   "cell_type": "code",
   "execution_count": 58,
   "metadata": {},
   "outputs": [],
   "source": [
    "#Q12   Perform the following operations using people data set:\n",
    "# a) Delete the 'Email', 'Phone', and 'Date of birth' columns from the dataset.\n",
    "# b) Delete the rows containing any missing values.\n",
    "# d) Print the final output also\n"
   ]
  },
  {
   "cell_type": "code",
   "execution_count": null,
   "metadata": {},
   "outputs": [],
   "source": [
    "# a) Delete the 'Email', 'Phone', and 'Date of birth' columns from the dataset.\n",
    "df1 = df.drop(columns=['Email', 'Phone', 'Date of birth'])\n",
    "print(df1)"
   ]
  },
  {
   "cell_type": "code",
   "execution_count": 69,
   "metadata": {},
   "outputs": [
    {
     "data": {
      "text/html": [
       "<div>\n",
       "<style scoped>\n",
       "    .dataframe tbody tr th:only-of-type {\n",
       "        vertical-align: middle;\n",
       "    }\n",
       "\n",
       "    .dataframe tbody tr th {\n",
       "        vertical-align: top;\n",
       "    }\n",
       "\n",
       "    .dataframe thead th {\n",
       "        text-align: right;\n",
       "    }\n",
       "</style>\n",
       "<table border=\"1\" class=\"dataframe\">\n",
       "  <thead>\n",
       "    <tr style=\"text-align: right;\">\n",
       "      <th></th>\n",
       "      <th>51</th>\n",
       "      <th>CccE5DAb6E288e5</th>\n",
       "      <th>Jo</th>\n",
       "      <th>Zavala</th>\n",
       "      <th>Male</th>\n",
       "      <th>pamela64@example.net</th>\n",
       "      <th>001-859-448-9935x54536</th>\n",
       "      <th>23-11-1992</th>\n",
       "      <th>Nurse, adult</th>\n",
       "      <th>80000</th>\n",
       "    </tr>\n",
       "  </thead>\n",
       "  <tbody>\n",
       "    <tr>\n",
       "      <th>0</th>\n",
       "      <td>52</td>\n",
       "      <td>DfBDc3621D4bcec</td>\n",
       "      <td>Joshua</td>\n",
       "      <td>Carey</td>\n",
       "      <td>Female</td>\n",
       "      <td>dianashepherd@example.net</td>\n",
       "      <td>001-274-739-8470x814</td>\n",
       "      <td>07-01-1915</td>\n",
       "      <td>Seismic interpreter</td>\n",
       "      <td>70000</td>\n",
       "    </tr>\n",
       "    <tr>\n",
       "      <th>1</th>\n",
       "      <td>53</td>\n",
       "      <td>f55b0A249f5E44D</td>\n",
       "      <td>Rickey</td>\n",
       "      <td>Hobbs</td>\n",
       "      <td>Female</td>\n",
       "      <td>ingramtiffany@example.org</td>\n",
       "      <td>241.179.9509x498</td>\n",
       "      <td>01-07-1910</td>\n",
       "      <td>Barrister</td>\n",
       "      <td>60000</td>\n",
       "    </tr>\n",
       "    <tr>\n",
       "      <th>2</th>\n",
       "      <td>54</td>\n",
       "      <td>Ed71DcfaBFd0beE</td>\n",
       "      <td>Robyn</td>\n",
       "      <td>Reilly</td>\n",
       "      <td>Male</td>\n",
       "      <td>carriecrawford@example.org</td>\n",
       "      <td>207.797.8345x6177</td>\n",
       "      <td>27-07-1982</td>\n",
       "      <td>Engineer, structural</td>\n",
       "      <td>100000</td>\n",
       "    </tr>\n",
       "    <tr>\n",
       "      <th>3</th>\n",
       "      <td>55</td>\n",
       "      <td>FDaFD0c3f5387EC</td>\n",
       "      <td>Christina</td>\n",
       "      <td>Conrad</td>\n",
       "      <td>Male</td>\n",
       "      <td>fuentesclaudia@example.net</td>\n",
       "      <td>001-599-042-7428x143</td>\n",
       "      <td>06-01-1998</td>\n",
       "      <td>Producer, radio</td>\n",
       "      <td>50000</td>\n",
       "    </tr>\n",
       "    <tr>\n",
       "      <th>4</th>\n",
       "      <td>56</td>\n",
       "      <td>998C3Fda97EfAff</td>\n",
       "      <td>Shelby</td>\n",
       "      <td>Cole</td>\n",
       "      <td>Male</td>\n",
       "      <td>kaneaudrey@example.org</td>\n",
       "      <td>663-280-5834</td>\n",
       "      <td>18-08-1975</td>\n",
       "      <td>Therapist, nutritional</td>\n",
       "      <td>85000</td>\n",
       "    </tr>\n",
       "    <tr>\n",
       "      <th>...</th>\n",
       "      <td>...</td>\n",
       "      <td>...</td>\n",
       "      <td>...</td>\n",
       "      <td>...</td>\n",
       "      <td>...</td>\n",
       "      <td>...</td>\n",
       "      <td>...</td>\n",
       "      <td>...</td>\n",
       "      <td>...</td>\n",
       "      <td>...</td>\n",
       "    </tr>\n",
       "    <tr>\n",
       "      <th>944</th>\n",
       "      <td>996</td>\n",
       "      <td>fedF4c7Fd9e7cFa</td>\n",
       "      <td>Kurt</td>\n",
       "      <td>Bryant</td>\n",
       "      <td>Female</td>\n",
       "      <td>lyonsdaisy@example.net</td>\n",
       "      <td>021.775.2933</td>\n",
       "      <td>05-01-1959</td>\n",
       "      <td>Personnel officer</td>\n",
       "      <td>90000</td>\n",
       "    </tr>\n",
       "    <tr>\n",
       "      <th>945</th>\n",
       "      <td>997</td>\n",
       "      <td>ECddaFEDdEc4FAB</td>\n",
       "      <td>Donna</td>\n",
       "      <td>Barry</td>\n",
       "      <td>Female</td>\n",
       "      <td>dariusbryan@example.com</td>\n",
       "      <td>001-149-710-7799x721</td>\n",
       "      <td>06-10-2001</td>\n",
       "      <td>Education administrator</td>\n",
       "      <td>50000</td>\n",
       "    </tr>\n",
       "    <tr>\n",
       "      <th>946</th>\n",
       "      <td>998</td>\n",
       "      <td>2adde51d8B8979E</td>\n",
       "      <td>Cathy</td>\n",
       "      <td>Mckinney</td>\n",
       "      <td>Female</td>\n",
       "      <td>georgechan@example.org</td>\n",
       "      <td>+1-750-774-4128x33265</td>\n",
       "      <td>13-05-1918</td>\n",
       "      <td>Commercial/residential surveyor</td>\n",
       "      <td>60000</td>\n",
       "    </tr>\n",
       "    <tr>\n",
       "      <th>947</th>\n",
       "      <td>999</td>\n",
       "      <td>Fb2FE369D1E171A</td>\n",
       "      <td>Jermaine</td>\n",
       "      <td>Phelps</td>\n",
       "      <td>Male</td>\n",
       "      <td>wanda04@example.net</td>\n",
       "      <td>(915)292-2254</td>\n",
       "      <td>31-08-1971</td>\n",
       "      <td>Ambulance person</td>\n",
       "      <td>100000</td>\n",
       "    </tr>\n",
       "    <tr>\n",
       "      <th>948</th>\n",
       "      <td>1000</td>\n",
       "      <td>8b756f6231DDC6e</td>\n",
       "      <td>Lee</td>\n",
       "      <td>Tran</td>\n",
       "      <td>Female</td>\n",
       "      <td>deannablack@example.org</td>\n",
       "      <td>079.752.5424x67259</td>\n",
       "      <td>24-01-1947</td>\n",
       "      <td>Nurse, learning disability</td>\n",
       "      <td>90000</td>\n",
       "    </tr>\n",
       "  </tbody>\n",
       "</table>\n",
       "<p>934 rows × 10 columns</p>\n",
       "</div>"
      ],
      "text/plain": [
       "       51  CccE5DAb6E288e5         Jo    Zavala    Male  \\\n",
       "0      52  DfBDc3621D4bcec     Joshua     Carey  Female   \n",
       "1      53  f55b0A249f5E44D     Rickey     Hobbs  Female   \n",
       "2      54  Ed71DcfaBFd0beE      Robyn    Reilly    Male   \n",
       "3      55  FDaFD0c3f5387EC  Christina    Conrad    Male   \n",
       "4      56  998C3Fda97EfAff     Shelby      Cole    Male   \n",
       "..    ...              ...        ...       ...     ...   \n",
       "944   996  fedF4c7Fd9e7cFa       Kurt    Bryant  Female   \n",
       "945   997  ECddaFEDdEc4FAB      Donna     Barry  Female   \n",
       "946   998  2adde51d8B8979E      Cathy  Mckinney  Female   \n",
       "947   999  Fb2FE369D1E171A   Jermaine    Phelps    Male   \n",
       "948  1000  8b756f6231DDC6e        Lee      Tran  Female   \n",
       "\n",
       "           pamela64@example.net 001-859-448-9935x54536  23-11-1992  \\\n",
       "0     dianashepherd@example.net   001-274-739-8470x814  07-01-1915   \n",
       "1     ingramtiffany@example.org       241.179.9509x498  01-07-1910   \n",
       "2    carriecrawford@example.org      207.797.8345x6177  27-07-1982   \n",
       "3    fuentesclaudia@example.net   001-599-042-7428x143  06-01-1998   \n",
       "4        kaneaudrey@example.org           663-280-5834  18-08-1975   \n",
       "..                          ...                    ...         ...   \n",
       "944      lyonsdaisy@example.net           021.775.2933  05-01-1959   \n",
       "945     dariusbryan@example.com   001-149-710-7799x721  06-10-2001   \n",
       "946      georgechan@example.org  +1-750-774-4128x33265  13-05-1918   \n",
       "947         wanda04@example.net          (915)292-2254  31-08-1971   \n",
       "948     deannablack@example.org     079.752.5424x67259  24-01-1947   \n",
       "\n",
       "                        Nurse, adult   80000  \n",
       "0                Seismic interpreter   70000  \n",
       "1                          Barrister   60000  \n",
       "2               Engineer, structural  100000  \n",
       "3                    Producer, radio   50000  \n",
       "4             Therapist, nutritional   85000  \n",
       "..                               ...     ...  \n",
       "944                Personnel officer   90000  \n",
       "945          Education administrator   50000  \n",
       "946  Commercial/residential surveyor   60000  \n",
       "947                 Ambulance person  100000  \n",
       "948       Nurse, learning disability   90000  \n",
       "\n",
       "[934 rows x 10 columns]"
      ]
     },
     "execution_count": 69,
     "metadata": {},
     "output_type": "execute_result"
    }
   ],
   "source": [
    "# b) Delete the rows containing any missing values.\n",
    "df1.dropna()"
   ]
  },
  {
   "cell_type": "code",
   "execution_count": 81,
   "metadata": {},
   "outputs": [
    {
     "data": {
      "text/html": [
       "<div>\n",
       "<style scoped>\n",
       "    .dataframe tbody tr th:only-of-type {\n",
       "        vertical-align: middle;\n",
       "    }\n",
       "\n",
       "    .dataframe tbody tr th {\n",
       "        vertical-align: top;\n",
       "    }\n",
       "\n",
       "    .dataframe thead th {\n",
       "        text-align: right;\n",
       "    }\n",
       "</style>\n",
       "<table border=\"1\" class=\"dataframe\">\n",
       "  <thead>\n",
       "    <tr style=\"text-align: right;\">\n",
       "      <th></th>\n",
       "      <th>Index</th>\n",
       "      <th>User Id</th>\n",
       "      <th>First Name</th>\n",
       "      <th>Last Name</th>\n",
       "      <th>Gender</th>\n",
       "      <th>Job Title</th>\n",
       "      <th>Salary</th>\n",
       "    </tr>\n",
       "  </thead>\n",
       "  <tbody>\n",
       "    <tr>\n",
       "      <th>0</th>\n",
       "      <td>1</td>\n",
       "      <td>8717bbf45cCDbEe</td>\n",
       "      <td>Shelia</td>\n",
       "      <td>Mahoney</td>\n",
       "      <td>Male</td>\n",
       "      <td>Probation officer</td>\n",
       "      <td>90000</td>\n",
       "    </tr>\n",
       "    <tr>\n",
       "      <th>1</th>\n",
       "      <td>2</td>\n",
       "      <td>3d5AD30A4cD38ed</td>\n",
       "      <td>Jo</td>\n",
       "      <td>Rivers</td>\n",
       "      <td>Female</td>\n",
       "      <td>Dancer</td>\n",
       "      <td>80000</td>\n",
       "    </tr>\n",
       "    <tr>\n",
       "      <th>2</th>\n",
       "      <td>3</td>\n",
       "      <td>810Ce0F276Badec</td>\n",
       "      <td>Sheryl</td>\n",
       "      <td>Lowery</td>\n",
       "      <td>Female</td>\n",
       "      <td>Copy</td>\n",
       "      <td>50000</td>\n",
       "    </tr>\n",
       "    <tr>\n",
       "      <th>3</th>\n",
       "      <td>4</td>\n",
       "      <td>BF2a889C00f0cE1</td>\n",
       "      <td>Whitney</td>\n",
       "      <td>Hooper</td>\n",
       "      <td>Male</td>\n",
       "      <td>Counselling psychologist</td>\n",
       "      <td>65000</td>\n",
       "    </tr>\n",
       "    <tr>\n",
       "      <th>4</th>\n",
       "      <td>5</td>\n",
       "      <td>9afFEafAe1CBBB9</td>\n",
       "      <td>Lindsey</td>\n",
       "      <td>Rice</td>\n",
       "      <td>Female</td>\n",
       "      <td>Biomedical engineer</td>\n",
       "      <td>100000</td>\n",
       "    </tr>\n",
       "    <tr>\n",
       "      <th>...</th>\n",
       "      <td>...</td>\n",
       "      <td>...</td>\n",
       "      <td>...</td>\n",
       "      <td>...</td>\n",
       "      <td>...</td>\n",
       "      <td>...</td>\n",
       "      <td>...</td>\n",
       "    </tr>\n",
       "    <tr>\n",
       "      <th>995</th>\n",
       "      <td>996</td>\n",
       "      <td>fedF4c7Fd9e7cFa</td>\n",
       "      <td>Kurt</td>\n",
       "      <td>Bryant</td>\n",
       "      <td>Female</td>\n",
       "      <td>Personnel officer</td>\n",
       "      <td>90000</td>\n",
       "    </tr>\n",
       "    <tr>\n",
       "      <th>996</th>\n",
       "      <td>997</td>\n",
       "      <td>ECddaFEDdEc4FAB</td>\n",
       "      <td>Donna</td>\n",
       "      <td>Barry</td>\n",
       "      <td>Female</td>\n",
       "      <td>Education administrator</td>\n",
       "      <td>50000</td>\n",
       "    </tr>\n",
       "    <tr>\n",
       "      <th>997</th>\n",
       "      <td>998</td>\n",
       "      <td>2adde51d8B8979E</td>\n",
       "      <td>Cathy</td>\n",
       "      <td>Mckinney</td>\n",
       "      <td>Female</td>\n",
       "      <td>Commercial/residential surveyor</td>\n",
       "      <td>60000</td>\n",
       "    </tr>\n",
       "    <tr>\n",
       "      <th>998</th>\n",
       "      <td>999</td>\n",
       "      <td>Fb2FE369D1E171A</td>\n",
       "      <td>Jermaine</td>\n",
       "      <td>Phelps</td>\n",
       "      <td>Male</td>\n",
       "      <td>Ambulance person</td>\n",
       "      <td>100000</td>\n",
       "    </tr>\n",
       "    <tr>\n",
       "      <th>999</th>\n",
       "      <td>1000</td>\n",
       "      <td>8b756f6231DDC6e</td>\n",
       "      <td>Lee</td>\n",
       "      <td>Tran</td>\n",
       "      <td>Female</td>\n",
       "      <td>Nurse, learning disability</td>\n",
       "      <td>90000</td>\n",
       "    </tr>\n",
       "  </tbody>\n",
       "</table>\n",
       "<p>1000 rows × 7 columns</p>\n",
       "</div>"
      ],
      "text/plain": [
       "     Index          User Id First Name Last Name  Gender  \\\n",
       "0        1  8717bbf45cCDbEe     Shelia   Mahoney    Male   \n",
       "1        2  3d5AD30A4cD38ed         Jo    Rivers  Female   \n",
       "2        3  810Ce0F276Badec     Sheryl    Lowery  Female   \n",
       "3        4  BF2a889C00f0cE1    Whitney    Hooper    Male   \n",
       "4        5  9afFEafAe1CBBB9    Lindsey      Rice  Female   \n",
       "..     ...              ...        ...       ...     ...   \n",
       "995    996  fedF4c7Fd9e7cFa       Kurt    Bryant  Female   \n",
       "996    997  ECddaFEDdEc4FAB      Donna     Barry  Female   \n",
       "997    998  2adde51d8B8979E      Cathy  Mckinney  Female   \n",
       "998    999  Fb2FE369D1E171A   Jermaine    Phelps    Male   \n",
       "999   1000  8b756f6231DDC6e        Lee      Tran  Female   \n",
       "\n",
       "                           Job Title  Salary  \n",
       "0                  Probation officer   90000  \n",
       "1                             Dancer   80000  \n",
       "2                               Copy   50000  \n",
       "3           Counselling psychologist   65000  \n",
       "4                Biomedical engineer  100000  \n",
       "..                               ...     ...  \n",
       "995                Personnel officer   90000  \n",
       "996          Education administrator   50000  \n",
       "997  Commercial/residential surveyor   60000  \n",
       "998                 Ambulance person  100000  \n",
       "999       Nurse, learning disability   90000  \n",
       "\n",
       "[1000 rows x 7 columns]"
      ]
     },
     "execution_count": 81,
     "metadata": {},
     "output_type": "execute_result"
    }
   ],
   "source": [
    "# d) Print the final output also\n",
    "df1"
   ]
  },
  {
   "cell_type": "code",
   "execution_count": null,
   "metadata": {},
   "outputs": [],
   "source": [
    "#Q13 Create two NumPy arrays, x and y, each containing 100 random float values between 0 and 1. Perform the\n",
    "# following tasks using Matplotlib and NumPy:\n",
    "# a) Create a scatter plot using x and y, setting the color of the points to red and the marker style to 'o'.\n",
    "# b) Add a horizontal line at y = 0.5 using a dashed line style and label it as 'y = 0.5'.\n",
    "# c) Add a vertical line at x = 0.5 using a dotted line style and label it as 'x = 0.5'.\n",
    "# d) Label the x-axis as 'X-axis' and the y-axis as 'Y-axis'.\n",
    "# e) Set the title of the plot as 'Advanced Scatter Plot of Random Values'.\n",
    "# f) Display a legend for the scatter plot, the horizontal line, and the vertical line.\n"
   ]
  },
  {
   "cell_type": "code",
   "execution_count": 100,
   "metadata": {},
   "outputs": [
    {
     "data": {
      "image/png": "[encoded data removed]",
      "text/plain": [
       "<Figure size 640x480 with 1 Axes>"
      ]
     },
     "metadata": {},
     "output_type": "display_data"
    }
   ],
   "source": [
    "# code->\n",
    "# creating two numpy array using random nos\n",
    "x = np.random.rand(100)\n",
    "y = np.random.rand(100)\n",
    "\n",
    "# a.creating a scatter plot\n",
    "plt.scatter(x,y, color='red', marker='o', label = 'Data Points')\n",
    "\n",
    "# b.Add a horizontal line at y=0.5 using dashed line and label it as 'y=0.5'\n",
    "plt.axhline(y=0.5, color='blue', linestyle='--', label='y=0.5')\n",
    "\n",
    "# c) Add a vertical line at x = 0.5 using a dotted line style and label it as 'x = 0.5'.\n",
    "plt.axvline(x=0.5, color='green', linestyle=':', label='x=0.5')\n",
    "\n",
    "# d) Label the x-axis as 'X-axis' and the y-axis as 'Y-axis'.\n",
    "plt.xlabel('X-axis')\n",
    "plt.ylabel('Y-axis')\n",
    "\n",
    "# e) Set the title of the plot as 'Advanced Scatter Plot of Random Values'.\n",
    "plt.title('Advanced Scatter Plot of Random Values')\n",
    "\n",
    "# f) Display a legend for the scatter plot, the horizontal line, and the vertical line.\n",
    "plt.legend()\n",
    "\n",
    "# show the plot\n",
    "plt.show()"
   ]
  },
  {
   "cell_type": "code",
   "execution_count": 24,
   "metadata": {},
   "outputs": [
    {
     "data": {
      "image/png": "[encoded data removed]",
      "text/plain": [
       "<Figure size 640x480 with 2 Axes>"
      ]
     },
     "metadata": {},
     "output_type": "display_data"
    }
   ],
   "source": [
    "#Q14 Create a time-series dataset in a Pandas DataFrame with columns: 'Date', 'Temperature', 'Humidity' and\n",
    "# Perform the following tasks using Matplotlib\n",
    "# a) Plot the 'Temperature' and 'Humidity' on the same plot with different y-axes (left y-axis for 'Temperature' and right y-axis for 'Humidity').\n",
    "# b) Label the x-axis as 'Date'.\n",
    "# c) Set the title of the plot as 'Temperature and Humidity Over Time'.\n",
    "\n",
    "# code->\n",
    "# Create a time-series dataset\n",
    "date_range = pd.date_range(start='2023-01-01', periods=100, freq='D')\n",
    "temperature = np.random.uniform(low=20, high=35, size=len(date_range))\n",
    "humidity = np.random.uniform(low=30, high=90, size=len(date_range))\n",
    "\n",
    "data = {\n",
    "    'Date': date_range,\n",
    "    'Temperature': temperature,\n",
    "    'Humidity': humidity\n",
    "}\n",
    "\n",
    "df = pd.DataFrame(data)\n",
    "\n",
    "# Plot Temperature and Humidity on the same plot with different y-axes\n",
    "fig, ax1 = plt.subplots()\n",
    "\n",
    "# Plot Temperature on the left y-axis\n",
    "ax1.plot(df['Date'], df['Temperature'], color='tab:red', label='Temperature')\n",
    "ax1.set_xlabel('Date')\n",
    "ax1.set_ylabel('Temperature (°C)', color='tab:red')\n",
    "ax1.tick_params(axis='y', labelcolor='tab:red')\n",
    "\n",
    "# Create another y-axis for Humidity\n",
    "ax2 = ax1.twinx()\n",
    "ax2.plot(df['Date'], df['Humidity'], color='tab:blue', label='Humidity')\n",
    "ax2.set_ylabel('Humidity (%)', color='tab:blue')\n",
    "ax2.tick_params(axis='y', labelcolor='tab:blue')\n",
    "\n",
    "# Set the title of the plot\n",
    "plt.title('Temperature and Humidity Over Time')\n",
    "\n",
    "# Display the legend\n",
    "fig.tight_layout()  # Adjust layout to make room for the labels and title\n",
    "fig.legend(loc='upper left', bbox_to_anchor=(0.1,0.9))\n",
    "\n",
    "# Show the plot\n",
    "plt.show()"
   ]
  },
  {
   "cell_type": "code",
   "execution_count": 26,
   "metadata": {},
   "outputs": [
    {
     "data": {
      "image/png": "[encoded data removed]",
      "text/plain": [
       "<Figure size 640x480 with 1 Axes>"
      ]
     },
     "metadata": {},
     "output_type": "display_data"
    }
   ],
   "source": [
    "#Q15 Create a NumPy array data containing 1000 samples from a normal distribution. Perform the following\n",
    "# tasks using Matplotlib:\n",
    "# a) Plot a histogram of the data with 30 bins.\n",
    "# b) Overlay a line plot representing the normal distribution's probability density function (PDF).\n",
    "# c) Label the x-axis as 'Value' and the y-axis as 'Frequency/Probability'.\n",
    "# d) Set the title of the plot as 'Histogram with PDF Overlay'.\n",
    "\n",
    "# code->\n",
    "from scipy.stats import norm\n",
    "#Ans -\n",
    "# Create a NumPy array containing 1000 samples from a normal distribution\n",
    "data = np.random.normal(loc=0, scale=1, size=1000)\n",
    "\n",
    "# Plot a histogram of the data with 30 bins\n",
    "plt.hist(data, bins=30, density=True, alpha=0.6, color='g', label='Histogram')\n",
    "\n",
    "# Overlay a line plot representing the normal distribution's probability density function (PDF)\n",
    "xmin, xmax = plt.xlim()\n",
    "x = np.linspace(xmin, xmax, 100)\n",
    "p = norm.pdf(x, np.mean(data), np.std(data))\n",
    "plt.plot(x, p, 'k', linewidth=2, label='Normal PDF')\n",
    "\n",
    "# Label the x-axis as 'Value' and the y-axis as 'Frequency/Probability'\n",
    "plt.xlabel('Value')\n",
    "plt.ylabel('Frequency/Probability')\n",
    "\n",
    "# Set the title of the plot as 'Histogram with PDF Overlay'\n",
    "plt.title('Histogram with PDF Overlay')\n",
    "# Display the legend\n",
    "plt.legend()\n",
    "\n",
    "# Show the plot\n",
    "plt.show()"
   ]
  },
  {
   "cell_type": "code",
   "execution_count": 27,
   "metadata": {},
   "outputs": [
    {
     "data": {
      "text/plain": [
       "Text(0.5, 1.0, 'Histogram with PDF Overlay')"
      ]
     },
     "execution_count": 27,
     "metadata": {},
     "output_type": "execute_result"
    },
    {
     "data": {
      "image/png": "[encoded data removed]",
      "text/plain": [
       "<Figure size 640x480 with 1 Axes>"
      ]
     },
     "metadata": {},
     "output_type": "display_data"
    }
   ],
   "source": [
    "#Q16   Set the title of the plot as 'Histogram with PDF Overlay'.\n",
    "\n",
    "plt.title('Histogram with PDF Overlay')"
   ]
  },
  {
   "cell_type": "code",
   "execution_count": 28,
   "metadata": {},
   "outputs": [
    {
     "data": {
      "image/png": "[encoded data removed]",
      "text/plain": [
       "<Figure size 1000x600 with 1 Axes>"
      ]
     },
     "metadata": {},
     "output_type": "display_data"
    }
   ],
   "source": [
    "#Q17  Create a Seaborn scatter plot of two random arrays, color points based on their position relative to the\n",
    "#      origin (quadrants), add a legend, label the axes, and set the title as 'Quadrant-wise Scatter Plot'.\n",
    "\n",
    "\n",
    "# Create two random arrays\n",
    "x = np.random.uniform(-10, 10, 100)\n",
    "y = np.random.uniform(-10, 10, 100)\n",
    "\n",
    "# Create a DataFrame with quadrant information\n",
    "df = pd.DataFrame({\n",
    "    'X': x,\n",
    "    'Y': y,\n",
    "    'Quadrant': np.where((x >= 0) & (y >= 0), 'Quadrant 1',\n",
    "                np.where((x < 0) & (y >= 0), 'Quadrant 2',\n",
    "                np.where((x < 0) & (y < 0), 'Quadrant 3', 'Quadrant 4')))\n",
    "})\n",
    "\n",
    "# Create a scatter plot using Seaborn\n",
    "plt.figure(figsize=(10, 6))\n",
    "sns.scatterplot(data=df, x='X', y='Y', hue='Quadrant', palette='viridis')\n",
    "\n",
    "# Add labels and title\n",
    "plt.xlabel('X-axis')\n",
    "plt.ylabel('Y-axis')\n",
    "plt.title('Quadrant-wise Scatter Plot')\n",
    "\n",
    "# Display the legend\n",
    "plt.legend(title='Quadrants')\n",
    "\n",
    "# Show the plot\n",
    "plt.show()\n"
   ]
  },
  {
   "cell_type": "code",
   "execution_count": 30,
   "metadata": {},
   "outputs": [
    {
     "data": {
      "text/html": [
       "    <style>\n",
       "        .bk-notebook-logo {\n",
       "            display: block;\n",
       "            width: 20px;\n",
       "            height: 20px;\n",
       "            background-image: url(data:image/png;base64,iVBORw0KGgoAAAANSUhEUgAAABQAAAAUCAYAAACNiR0NAAAABHNCSVQICAgIfAhkiAAAAAlwSFlzAAALEgAACxIB0t1+/AAAABx0RVh0U29mdHdhcmUAQWRvYmUgRmlyZXdvcmtzIENTNui8sowAAAOkSURBVDiNjZRtaJVlGMd/1/08zzln5zjP1LWcU9N0NkN8m2CYjpgQYQXqSs0I84OLIC0hkEKoPtiH3gmKoiJDU7QpLgoLjLIQCpEsNJ1vqUOdO7ppbuec5+V+rj4ctwzd8IIbbi6u+8f1539dt3A78eXC7QizUF7gyV1fD1Yqg4JWz84yffhm0qkFqBogB9rM8tZdtwVsPUhWhGcFJngGeWrPzHm5oaMmkfEg1usvLFyc8jLRqDOMru7AyC8saQr7GG7f5fvDeH7Ej8CM66nIF+8yngt6HWaKh7k49Soy9nXurCi1o3qUbS3zWfrYeQDTB/Qj6kX6Ybhw4B+bOYoLKCC9H3Nu/leUTZ1JdRWkkn2ldcCamzrcf47KKXdAJllSlxAOkRgyHsGC/zRday5Qld9DyoM4/q/rUoy/CXh3jzOu3bHUVZeU+DEn8FInkPBFlu3+nW3Nw0mk6vCDiWg8CeJaxEwuHS3+z5RgY+YBR6V1Z1nxSOfoaPa4LASWxxdNp+VWTk7+4vzaou8v8PN+xo+KY2xsw6une2frhw05CTYOmQvsEhjhWjn0bmXPjpE1+kplmmkP3suftwTubK9Vq22qKmrBhpY4jvd5afdRA3wGjFAgcnTK2s4hY0/GPNIb0nErGMCRxWOOX64Z8RAC4oCXdklmEvcL8o0BfkNK4lUg9HTl+oPlQxdNo3Mg4Nv175e/1LDGzZen30MEjRUtmXSfiTVu1kK8W4txyV6BMKlbgk3lMwYCiusNy9fVfvvwMxv8Ynl6vxoByANLTWplvuj/nF9m2+PDtt1eiHPBr1oIfhCChQMBw6Aw0UulqTKZdfVvfG7VcfIqLG9bcldL/+pdWTLxLUy8Qq38heUIjh4XlzZxzQm19lLFlr8vdQ97rjZVOLf8nclzckbcD4wxXMidpX30sFd37Fv/GtwwhzhxGVAprjbg0gCAEeIgwCZyTV2Z1REEW8O4py0wsjeloKoMr6iCY6dP92H6Vw/oTyICIthibxjm/DfN9lVz8IqtqKYLUXfoKVMVQVVJOElGjrnnUt9T9wbgp8AyYKaGlqingHZU/uG2NTZSVqwHQTWkx9hxjkpWDaCg6Ckj5qebgBVbT3V3NNXMSiWSDdGV3hrtzla7J+duwPOToIg42ChPQOQjspnSlp1V+Gjdged7+8UN5CRAV7a5EdFNwCjEaBR27b3W890TE7g24NAP/mMDXRWrGoFPQI9ls/MWO2dWFAar/xcOIImbbpA3zgAAAABJRU5ErkJggg==);\n",
       "        }\n",
       "    </style>\n",
       "    <div>\n",
       "        <a href=\"https://bokeh.org\" target=\"_blank\" class=\"bk-notebook-logo\"></a>\n",
       "        <span id=\"da53cd8f-0a6c-4b0f-bcba-cc0164b33251\">Loading BokehJS ...</span>\n",
       "    </div>\n"
      ]
     },
     "metadata": {},
     "output_type": "display_data"
    },
    {
     "data": {
      "application/javascript": "'use strict';\n(function(root) {\n  function now() {\n    return new Date();\n  }\n\n  const force = true;\n\n  if (typeof root._bokeh_onload_callbacks === \"undefined\" || force === true) {\n    root._bokeh_onload_callbacks = [];\n    root._bokeh_is_loading = undefined;\n  }\n\nconst JS_MIME_TYPE = 'application/javascript';\n  const HTML_MIME_TYPE = 'text/html';\n  const EXEC_MIME_TYPE = 'application/vnd.bokehjs_exec.v0+json';\n  const CLASS_NAME = 'output_bokeh rendered_html';\n\n  /**\n   * Render data to the DOM node\n   */\n  function render(props, node) {\n    const script = document.createElement(\"script\");\n    node.appendChild(script);\n  }\n\n  /**\n   * Handle when an output is cleared or removed\n   */\n  function handleClearOutput(event, handle) {\n    function drop(id) {\n      const view = Bokeh.index.get_by_id(id)\n      if (view != null) {\n        view.model.document.clear()\n        Bokeh.index.delete(view)\n      }\n    }\n\n    const cell = handle.cell;\n\n    const id = cell.output_area._bokeh_element_id;\n    const server_id = cell.output_area._bokeh_server_id;\n\n    // Clean up Bokeh references\n    if (id != null) {\n      drop(id)\n    }\n\n    if (server_id !== undefined) {\n      // Clean up Bokeh references\n      const cmd_clean = \"from bokeh.io.state import curstate; print(curstate().uuid_to_server['\" + server_id + \"'].get_sessions()[0].document.roots[0]._id)\";\n      cell.notebook.kernel.execute(cmd_clean, {\n        iopub: {\n          output: function(msg) {\n            const id = msg.content.text.trim()\n            drop(id)\n          }\n        }\n      });\n      // Destroy server and session\n      const cmd_destroy = \"import bokeh.io.notebook as ion; ion.destroy_server('\" + server_id + \"')\";\n      cell.notebook.kernel.execute(cmd_destroy);\n    }\n  }\n\n  /**\n   * Handle when a new output is added\n   */\n  function handleAddOutput(event, handle) {\n    const output_area = handle.output_area;\n    const output = handle.output;\n\n    // limit handleAddOutput to display_data with EXEC_MIME_TYPE content only\n    if ((output.output_type != \"display_data\") || (!Object.prototype.hasOwnProperty.call(output.data, EXEC_MIME_TYPE))) {\n      return\n    }\n\n    const toinsert = output_area.element.find(\".\" + CLASS_NAME.split(' ')[0]);\n\n    if (output.metadata[EXEC_MIME_TYPE][\"id\"] !== undefined) {\n      toinsert[toinsert.length - 1].firstChild.textContent = output.data[JS_MIME_TYPE];\n      // store reference to embed id on output_area\n      output_area._bokeh_element_id = output.metadata[EXEC_MIME_TYPE][\"id\"];\n    }\n    if (output.metadata[EXEC_MIME_TYPE][\"server_id\"] !== undefined) {\n      const bk_div = document.createElement(\"div\");\n      bk_div.innerHTML = output.data[HTML_MIME_TYPE];\n      const script_attrs = bk_div.children[0].attributes;\n      for (let i = 0; i < script_attrs.length; i++) {\n        toinsert[toinsert.length - 1].firstChild.setAttribute(script_attrs[i].name, script_attrs[i].value);\n        toinsert[toinsert.length - 1].firstChild.textContent = bk_div.children[0].textContent\n      }\n      // store reference to server id on output_area\n      output_area._bokeh_server_id = output.metadata[EXEC_MIME_TYPE][\"server_id\"];\n    }\n  }\n\n  function register_renderer(events, OutputArea) {\n\n    function append_mime(data, metadata, element) {\n      // create a DOM node to render to\n      const toinsert = this.create_output_subarea(\n        metadata,\n        CLASS_NAME,\n        EXEC_MIME_TYPE\n      );\n      this.keyboard_manager.register_events(toinsert);\n      // Render to node\n      const props = {data: data, metadata: metadata[EXEC_MIME_TYPE]};\n      render(props, toinsert[toinsert.length - 1]);\n      element.append(toinsert);\n      return toinsert\n    }\n\n    /* Handle when an output is cleared or removed */\n    events.on('clear_output.CodeCell', handleClearOutput);\n    events.on('delete.Cell', handleClearOutput);\n\n    /* Handle when a new output is added */\n    events.on('output_added.OutputArea', handleAddOutput);\n\n    /**\n     * Register the mime type and append_mime function with output_area\n     */\n    OutputArea.prototype.register_mime_type(EXEC_MIME_TYPE, append_mime, {\n      /* Is output safe? */\n      safe: true,\n      /* Index of renderer in `output_area.display_order` */\n      index: 0\n    });\n  }\n\n  // register the mime type if in Jupyter Notebook environment and previously unregistered\n  if (root.Jupyter !== undefined) {\n    const events = require('base/js/events');\n    const OutputArea = require('notebook/js/outputarea').OutputArea;\n\n    if (OutputArea.prototype.mime_types().indexOf(EXEC_MIME_TYPE) == -1) {\n      register_renderer(events, OutputArea);\n    }\n  }\n  if (typeof (root._bokeh_timeout) === \"undefined\" || force === true) {\n    root._bokeh_timeout = Date.now() + 5000;\n    root._bokeh_failed_load = false;\n  }\n\n  const NB_LOAD_WARNING = {'data': {'text/html':\n     \"<div style='background-color: #fdd'>\\n\"+\n     \"<p>\\n\"+\n     \"BokehJS does not appear to have successfully loaded. If loading BokehJS from CDN, this \\n\"+\n     \"may be due to a slow or bad network connection. Possible fixes:\\n\"+\n     \"</p>\\n\"+\n     \"<ul>\\n\"+\n     \"<li>re-rerun `output_notebook()` to attempt to load from CDN again, or</li>\\n\"+\n     \"<li>use INLINE resources instead, as so:</li>\\n\"+\n     \"</ul>\\n\"+\n     \"<code>\\n\"+\n     \"from bokeh.resources import INLINE\\n\"+\n     \"output_notebook(resources=INLINE)\\n\"+\n     \"</code>\\n\"+\n     \"</div>\"}};\n\n  function display_loaded(error = null) {\n    const el = document.getElementById(\"da53cd8f-0a6c-4b0f-bcba-cc0164b33251\");\n    if (el != null) {\n      const html = (() => {\n        if (typeof root.Bokeh === \"undefined\") {\n          if (error == null) {\n            return \"BokehJS is loading ...\";\n          } else {\n            return \"BokehJS failed to load.\";\n          }\n        } else {\n          const prefix = `BokehJS ${root.Bokeh.version}`;\n          if (error == null) {\n            return `${prefix} successfully loaded.`;\n          } else {\n            return `${prefix} <b>encountered errors</b> while loading and may not function as expected.`;\n          }\n        }\n      })();\n      el.innerHTML = html;\n\n      if (error != null) {\n        const wrapper = document.createElement(\"div\");\n        wrapper.style.overflow = \"auto\";\n        wrapper.style.height = \"5em\";\n        wrapper.style.resize = \"vertical\";\n        const content = document.createElement(\"div\");\n        content.style.fontFamily = \"monospace\";\n        content.style.whiteSpace = \"pre-wrap\";\n        content.style.backgroundColor = \"rgb(255, 221, 221)\";\n        content.textContent = error.stack ?? error.toString();\n        wrapper.append(content);\n        el.append(wrapper);\n      }\n    } else if (Date.now() < root._bokeh_timeout) {\n      setTimeout(() => display_loaded(error), 100);\n    }\n  }\n\n  function run_callbacks() {\n    try {\n      root._bokeh_onload_callbacks.forEach(function(callback) {\n        if (callback != null)\n          callback();\n      });\n    } finally {\n      delete root._bokeh_onload_callbacks\n    }\n    console.debug(\"Bokeh: all callbacks have finished\");\n  }\n\n  function load_libs(css_urls, js_urls, callback) {\n    if (css_urls == null) css_urls = [];\n    if (js_urls == null) js_urls = [];\n\n    root._bokeh_onload_callbacks.push(callback);\n    if (root._bokeh_is_loading > 0) {\n      console.debug(\"Bokeh: BokehJS is being loaded, scheduling callback at\", now());\n      return null;\n    }\n    if (js_urls == null || js_urls.length === 0) {\n      run_callbacks();\n      return null;\n    }\n    console.debug(\"Bokeh: BokehJS not loaded, scheduling load and callback at\", now());\n    root._bokeh_is_loading = css_urls.length + js_urls.length;\n\n    function on_load() {\n      root._bokeh_is_loading--;\n      if (root._bokeh_is_loading === 0) {\n        console.debug(\"Bokeh: all BokehJS libraries/stylesheets loaded\");\n        run_callbacks()\n      }\n    }\n\n    function on_error(url) {\n      console.error(\"failed to load \" + url);\n    }\n\n    for (let i = 0; i < css_urls.length; i++) {\n      const url = css_urls[i];\n      const element = document.createElement(\"link\");\n      element.onload = on_load;\n      element.onerror = on_error.bind(null, url);\n      element.rel = \"stylesheet\";\n      element.type = \"text/css\";\n      element.href = url;\n      console.debug(\"Bokeh: injecting link tag for BokehJS stylesheet: \", url);\n      document.body.appendChild(element);\n    }\n\n    for (let i = 0; i < js_urls.length; i++) {\n      const url = js_urls[i];\n      const element = document.createElement('script');\n      element.onload = on_load;\n      element.onerror = on_error.bind(null, url);\n      element.async = false;\n      element.src = url;\n      console.debug(\"Bokeh: injecting script tag for BokehJS library: \", url);\n      document.head.appendChild(element);\n    }\n  };\n\n  function inject_raw_css(css) {\n    const element = document.createElement(\"style\");\n    element.appendChild(document.createTextNode(css));\n    document.body.appendChild(element);\n  }\n\n  const js_urls = [\"https://cdn.bokeh.org/bokeh/release/bokeh-3.5.1.min.js\", \"https://cdn.bokeh.org/bokeh/release/bokeh-gl-3.5.1.min.js\", \"https://cdn.bokeh.org/bokeh/release/bokeh-widgets-3.5.1.min.js\", \"https://cdn.bokeh.org/bokeh/release/bokeh-tables-3.5.1.min.js\", \"https://cdn.bokeh.org/bokeh/release/bokeh-mathjax-3.5.1.min.js\"];\n  const css_urls = [];\n\n  const inline_js = [    function(Bokeh) {\n      Bokeh.set_log_level(\"info\");\n    },\nfunction(Bokeh) {\n    }\n  ];\n\n  function run_inline_js() {\n    if (root.Bokeh !== undefined || force === true) {\n      try {\n            for (let i = 0; i < inline_js.length; i++) {\n      inline_js[i].call(root, root.Bokeh);\n    }\n\n      } catch (error) {display_loaded(error);throw error;\n      }if (force === true) {\n        display_loaded();\n      }} else if (Date.now() < root._bokeh_timeout) {\n      setTimeout(run_inline_js, 100);\n    } else if (!root._bokeh_failed_load) {\n      console.log(\"Bokeh: BokehJS failed to load within specified timeout.\");\n      root._bokeh_failed_load = true;\n    } else if (force !== true) {\n      const cell = $(document.getElementById(\"da53cd8f-0a6c-4b0f-bcba-cc0164b33251\")).parents('.cell').data().cell;\n      cell.output_area.append_execute_result(NB_LOAD_WARNING)\n    }\n  }\n\n  if (root._bokeh_is_loading === 0) {\n    console.debug(\"Bokeh: BokehJS loaded, going straight to plotting\");\n    run_inline_js();\n  } else {\n    load_libs(css_urls, js_urls, function() {\n      console.debug(\"Bokeh: BokehJS plotting callback run at\", now());\n      run_inline_js();\n    });\n  }\n}(window));",
      "application/vnd.bokehjs_load.v0+json": ""
     },
     "metadata": {},
     "output_type": "display_data"
    },
    {
     "data": {
      "text/html": [
       "\n",
       "  <div id=\"b28ae38f-dc2e-4d6e-8b04-0f3e4ac4e0dd\" data-root-id=\"p1049\" style=\"display: contents;\"></div>\n"
      ]
     },
     "metadata": {},
     "output_type": "display_data"
    },
    {
     "data": {
      "application/javascript": "(function(root) {\n  function embed_document(root) {\n  const docs_json = {\"8540e70a-8b71-4047-a42e-473591a95f35\":{\"version\":\"3.5.1\",\"title\":\"Bokeh Application\",\"roots\":[{\"type\":\"object\",\"name\":\"Figure\",\"id\":\"p1049\",\"attributes\":{\"x_range\":{\"type\":\"object\",\"name\":\"Range1d\",\"id\":\"p1093\",\"attributes\":{\"end\":12.566370614359172}},\"y_range\":{\"type\":\"object\",\"name\":\"Range1d\",\"id\":\"p1094\",\"attributes\":{\"start\":-1.5,\"end\":1.5}},\"x_scale\":{\"type\":\"object\",\"name\":\"LinearScale\",\"id\":\"p1059\"},\"y_scale\":{\"type\":\"object\",\"name\":\"LinearScale\",\"id\":\"p1060\"},\"title\":{\"type\":\"object\",\"name\":\"Title\",\"id\":\"p1052\",\"attributes\":{\"text\":\"Sine Wave Function\"}},\"renderers\":[{\"type\":\"object\",\"name\":\"GlyphRenderer\",\"id\":\"p1090\",\"attributes\":{\"data_source\":{\"type\":\"object\",\"name\":\"ColumnDataSource\",\"id\":\"p1084\",\"attributes\":{\"selected\":{\"type\":\"object\",\"name\":\"Selection\",\"id\":\"p1085\",\"attributes\":{\"indices\":[],\"line_indices\":[]}},\"selection_policy\":{\"type\":\"object\",\"name\":\"UnionRenderers\",\"id\":\"p1086\"},\"data\":{\"type\":\"map\",\"entries\":[[\"x\",{\"type\":\"ndarray\",\"array\":{\"type\":\"bytes\",\"data\":\"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\"},\"shape\":[1000],\"dtype\":\"float64\",\"order\":\"little\"}],[\"y\",{\"type\":\"ndarray\",\"array\":{\"type\":\"bytes\",\"data\":\"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\"},\"shape\":[1000],\"dtype\":\"float64\",\"order\":\"little\"}]]}}},\"view\":{\"type\":\"object\",\"name\":\"CDSView\",\"id\":\"p1091\",\"attributes\":{\"filter\":{\"type\":\"object\",\"name\":\"AllIndices\",\"id\":\"p1092\"}}},\"glyph\":{\"type\":\"object\",\"name\":\"Line\",\"id\":\"p1087\",\"attributes\":{\"x\":{\"type\":\"field\",\"field\":\"x\"},\"y\":{\"type\":\"field\",\"field\":\"y\"},\"line_color\":\"#1f77b4\",\"line_width\":2}},\"nonselection_glyph\":{\"type\":\"object\",\"name\":\"Line\",\"id\":\"p1088\",\"attributes\":{\"x\":{\"type\":\"field\",\"field\":\"x\"},\"y\":{\"type\":\"field\",\"field\":\"y\"},\"line_color\":\"#1f77b4\",\"line_alpha\":0.1,\"line_width\":2}},\"muted_glyph\":{\"type\":\"object\",\"name\":\"Line\",\"id\":\"p1089\",\"attributes\":{\"x\":{\"type\":\"field\",\"field\":\"x\"},\"y\":{\"type\":\"field\",\"field\":\"y\"},\"line_color\":\"#1f77b4\",\"line_alpha\":0.2,\"line_width\":2}}}}],\"toolbar\":{\"type\":\"object\",\"name\":\"Toolbar\",\"id\":\"p1058\",\"attributes\":{\"tools\":[{\"type\":\"object\",\"name\":\"PanTool\",\"id\":\"p1071\"},{\"type\":\"object\",\"name\":\"WheelZoomTool\",\"id\":\"p1072\",\"attributes\":{\"renderers\":\"auto\"}},{\"type\":\"object\",\"name\":\"BoxZoomTool\",\"id\":\"p1073\",\"attributes\":{\"overlay\":{\"type\":\"object\",\"name\":\"BoxAnnotation\",\"id\":\"p1074\",\"attributes\":{\"syncable\":false,\"line_color\":\"black\",\"line_alpha\":1.0,\"line_width\":2,\"line_dash\":[4,4],\"fill_color\":\"lightgrey\",\"fill_alpha\":0.5,\"level\":\"overlay\",\"visible\":false,\"left\":{\"type\":\"number\",\"value\":\"nan\"},\"right\":{\"type\":\"number\",\"value\":\"nan\"},\"top\":{\"type\":\"number\",\"value\":\"nan\"},\"bottom\":{\"type\":\"number\",\"value\":\"nan\"},\"left_units\":\"canvas\",\"right_units\":\"canvas\",\"top_units\":\"canvas\",\"bottom_units\":\"canvas\",\"handles\":{\"type\":\"object\",\"name\":\"BoxInteractionHandles\",\"id\":\"p1080\",\"attributes\":{\"all\":{\"type\":\"object\",\"name\":\"AreaVisuals\",\"id\":\"p1079\",\"attributes\":{\"fill_color\":\"white\",\"hover_fill_color\":\"lightgray\"}}}}}}}},{\"type\":\"object\",\"name\":\"SaveTool\",\"id\":\"p1081\"},{\"type\":\"object\",\"name\":\"ResetTool\",\"id\":\"p1082\"},{\"type\":\"object\",\"name\":\"HelpTool\",\"id\":\"p1083\"}]}},\"left\":[{\"type\":\"object\",\"name\":\"LinearAxis\",\"id\":\"p1066\",\"attributes\":{\"ticker\":{\"type\":\"object\",\"name\":\"BasicTicker\",\"id\":\"p1067\",\"attributes\":{\"mantissas\":[1,2,5]}},\"formatter\":{\"type\":\"object\",\"name\":\"BasicTickFormatter\",\"id\":\"p1068\"},\"axis_label\":\"sin(x)\",\"major_label_policy\":{\"type\":\"object\",\"name\":\"AllLabels\",\"id\":\"p1069\"}}}],\"below\":[{\"type\":\"object\",\"name\":\"LinearAxis\",\"id\":\"p1061\",\"attributes\":{\"ticker\":{\"type\":\"object\",\"name\":\"BasicTicker\",\"id\":\"p1062\",\"attributes\":{\"mantissas\":[1,2,5]}},\"formatter\":{\"type\":\"object\",\"name\":\"BasicTickFormatter\",\"id\":\"p1063\"},\"axis_label\":\"x\",\"major_label_policy\":{\"type\":\"object\",\"name\":\"AllLabels\",\"id\":\"p1064\"}}}],\"center\":[{\"type\":\"object\",\"name\":\"Grid\",\"id\":\"p1065\",\"attributes\":{\"axis\":{\"id\":\"p1061\"},\"grid_line_color\":\"gray\"}},{\"type\":\"object\",\"name\":\"Grid\",\"id\":\"p1070\",\"attributes\":{\"dimension\":1,\"axis\":{\"id\":\"p1066\"},\"grid_line_color\":\"gray\"}}]}}]}};\n  const render_items = [{\"docid\":\"8540e70a-8b71-4047-a42e-473591a95f35\",\"roots\":{\"p1049\":\"b28ae38f-dc2e-4d6e-8b04-0f3e4ac4e0dd\"},\"root_ids\":[\"p1049\"]}];\n  void root.Bokeh.embed.embed_items_notebook(docs_json, render_items);\n  }\n  if (root.Bokeh !== undefined) {\n    embed_document(root);\n  } else {\n    let attempts = 0;\n    const timer = setInterval(function(root) {\n      if (root.Bokeh !== undefined) {\n        clearInterval(timer);\n        embed_document(root);\n      } else {\n        attempts++;\n        if (attempts > 100) {\n          clearInterval(timer);\n          console.log(\"Bokeh: ERROR: Unable to run BokehJS code because BokehJS library is missing\");\n        }\n      }\n    }, 10, root)\n  }\n})(window);",
      "application/vnd.bokehjs_exec.v0+json": ""
     },
     "metadata": {
      "application/vnd.bokehjs_exec.v0+json": {
       "id": "p1049"
      }
     },
     "output_type": "display_data"
    }
   ],
   "source": [
    "#Q18  With Bokeh, plot a line chart of a sine wave function, add grid lines, label the axes, and set the title as 'Sine Wave Function'\n",
    "from bokeh.plotting import figure, show, output_notebook\n",
    "from bokeh.models import Range1d\n",
    "import numpy as np\n",
    "\n",
    "# Display the plot inline in the notebook\n",
    "output_notebook()\n",
    "\n",
    "# Generate data for the sine wave\n",
    "x = np.linspace(0, 4 * np.pi, 1000)\n",
    "y = np.sin(x)\n",
    "\n",
    "# Create a new plot with a title and axis labels\n",
    "p = figure(title=\"Sine Wave Function\", x_axis_label='x', y_axis_label='sin(x)')\n",
    "\n",
    "# Add a line renderer with the sine wave data\n",
    "p.line(x, y, line_width=2)\n",
    "\n",
    "# Add grid lines\n",
    "p.xgrid.grid_line_color = 'gray'\n",
    "p.ygrid.grid_line_color = 'gray'\n",
    "\n",
    "# Set the ranges for x and y axes\n",
    "p.x_range = Range1d(0, 4 * np.pi)\n",
    "p.y_range = Range1d(-1.5, 1.5)\n",
    "show(p)"
   ]
  },
  {
   "cell_type": "code",
   "execution_count": 35,
   "metadata": {},
   "outputs": [
    {
     "name": "stdout",
     "output_type": "stream",
     "text": [
      "  Category  Value       Color\n",
      "0    Shirt     25  Light Blue\n",
      "1      Hat     18       Brown\n",
      "2    Shoes     32       Black\n",
      "3     Book     12  Dark Green\n",
      "4      Toy     15         Red\n"
     ]
    },
    {
     "data": {
      "text/html": [
       "\n",
       "  <div id=\"bb54eea4-d7b7-4e70-b3cd-80501e6d1282\" data-root-id=\"p1146\" style=\"display: contents;\"></div>\n"
      ]
     },
     "metadata": {},
     "output_type": "display_data"
    },
    {
     "data": {
      "application/javascript": "(function(root) {\n  function embed_document(root) {\n  const docs_json = {\"9f71ebc6-4a1c-4366-9bb1-ae095acafdc8\":{\"version\":\"3.5.1\",\"title\":\"Bokeh Application\",\"roots\":[{\"type\":\"object\",\"name\":\"Figure\",\"id\":\"p1146\",\"attributes\":{\"x_range\":{\"type\":\"object\",\"name\":\"DataRange1d\",\"id\":\"p1147\"},\"y_range\":{\"type\":\"object\",\"name\":\"DataRange1d\",\"id\":\"p1148\"},\"x_scale\":{\"type\":\"object\",\"name\":\"LinearScale\",\"id\":\"p1156\"},\"y_scale\":{\"type\":\"object\",\"name\":\"LinearScale\",\"id\":\"p1157\"},\"title\":{\"type\":\"object\",\"name\":\"Title\",\"id\":\"p1149\",\"attributes\":{\"text\":\"Random Categorical Bar Chart\"}},\"renderers\":[{\"type\":\"object\",\"name\":\"GlyphRenderer\",\"id\":\"p1190\",\"attributes\":{\"data_source\":{\"type\":\"object\",\"name\":\"ColumnDataSource\",\"id\":\"p1181\",\"attributes\":{\"selected\":{\"type\":\"object\",\"name\":\"Selection\",\"id\":\"p1182\",\"attributes\":{\"indices\":[],\"line_indices\":[]}},\"selection_policy\":{\"type\":\"object\",\"name\":\"UnionRenderers\",\"id\":\"p1183\"},\"data\":{\"type\":\"map\",\"entries\":[[\"index\",{\"type\":\"ndarray\",\"array\":{\"type\":\"bytes\",\"data\":\"AAAAAAEAAAACAAAAAwAAAAQAAAA=\"},\"shape\":[5],\"dtype\":\"int32\",\"order\":\"little\"}],[\"Category\",{\"type\":\"ndarray\",\"array\":[\"Shirt\",\"Hat\",\"Shoes\",\"Book\",\"Toy\"],\"shape\":[5],\"dtype\":\"object\",\"order\":\"little\"}],[\"Value\",{\"type\":\"ndarray\",\"array\":{\"type\":\"bytes\",\"data\":\"GQAAABIAAAAgAAAADAAAAA8AAAA=\"},\"shape\":[5],\"dtype\":\"int32\",\"order\":\"little\"}],[\"Color\",{\"type\":\"ndarray\",\"array\":[\"Light Blue\",\"Brown\",\"Black\",\"Dark Green\",\"Red\"],\"shape\":[5],\"dtype\":\"object\",\"order\":\"little\"}]]}}},\"view\":{\"type\":\"object\",\"name\":\"CDSView\",\"id\":\"p1191\",\"attributes\":{\"filter\":{\"type\":\"object\",\"name\":\"AllIndices\",\"id\":\"p1192\"}}},\"glyph\":{\"type\":\"object\",\"name\":\"VBar\",\"id\":\"p1187\",\"attributes\":{\"x\":{\"type\":\"field\",\"field\":\"Category\"},\"width\":{\"type\":\"value\",\"value\":0.5},\"top\":{\"type\":\"field\",\"field\":\"Value\"},\"line_color\":{\"type\":\"field\",\"field\":\"Color\"},\"fill_color\":{\"type\":\"field\",\"field\":\"Color\"},\"hatch_color\":{\"type\":\"field\",\"field\":\"Color\"}}},\"nonselection_glyph\":{\"type\":\"object\",\"name\":\"VBar\",\"id\":\"p1188\",\"attributes\":{\"x\":{\"type\":\"field\",\"field\":\"Category\"},\"width\":{\"type\":\"value\",\"value\":0.5},\"top\":{\"type\":\"field\",\"field\":\"Value\"},\"line_color\":{\"type\":\"field\",\"field\":\"Color\"},\"line_alpha\":{\"type\":\"value\",\"value\":0.1},\"fill_color\":{\"type\":\"field\",\"field\":\"Color\"},\"fill_alpha\":{\"type\":\"value\",\"value\":0.1},\"hatch_color\":{\"type\":\"field\",\"field\":\"Color\"},\"hatch_alpha\":{\"type\":\"value\",\"value\":0.1}}},\"muted_glyph\":{\"type\":\"object\",\"name\":\"VBar\",\"id\":\"p1189\",\"attributes\":{\"x\":{\"type\":\"field\",\"field\":\"Category\"},\"width\":{\"type\":\"value\",\"value\":0.5},\"top\":{\"type\":\"field\",\"field\":\"Value\"},\"line_color\":{\"type\":\"field\",\"field\":\"Color\"},\"line_alpha\":{\"type\":\"value\",\"value\":0.2},\"fill_color\":{\"type\":\"field\",\"field\":\"Color\"},\"fill_alpha\":{\"type\":\"value\",\"value\":0.2},\"hatch_color\":{\"type\":\"field\",\"field\":\"Color\"},\"hatch_alpha\":{\"type\":\"value\",\"value\":0.2}}}}}],\"toolbar\":{\"type\":\"object\",\"name\":\"Toolbar\",\"id\":\"p1155\",\"attributes\":{\"tools\":[{\"type\":\"object\",\"name\":\"PanTool\",\"id\":\"p1168\"},{\"type\":\"object\",\"name\":\"WheelZoomTool\",\"id\":\"p1169\",\"attributes\":{\"renderers\":\"auto\"}},{\"type\":\"object\",\"name\":\"BoxZoomTool\",\"id\":\"p1170\",\"attributes\":{\"overlay\":{\"type\":\"object\",\"name\":\"BoxAnnotation\",\"id\":\"p1171\",\"attributes\":{\"syncable\":false,\"line_color\":\"black\",\"line_alpha\":1.0,\"line_width\":2,\"line_dash\":[4,4],\"fill_color\":\"lightgrey\",\"fill_alpha\":0.5,\"level\":\"overlay\",\"visible\":false,\"left\":{\"type\":\"number\",\"value\":\"nan\"},\"right\":{\"type\":\"number\",\"value\":\"nan\"},\"top\":{\"type\":\"number\",\"value\":\"nan\"},\"bottom\":{\"type\":\"number\",\"value\":\"nan\"},\"left_units\":\"canvas\",\"right_units\":\"canvas\",\"top_units\":\"canvas\",\"bottom_units\":\"canvas\",\"handles\":{\"type\":\"object\",\"name\":\"BoxInteractionHandles\",\"id\":\"p1177\",\"attributes\":{\"all\":{\"type\":\"object\",\"name\":\"AreaVisuals\",\"id\":\"p1176\",\"attributes\":{\"fill_color\":\"white\",\"hover_fill_color\":\"lightgray\"}}}}}}}},{\"type\":\"object\",\"name\":\"SaveTool\",\"id\":\"p1178\"},{\"type\":\"object\",\"name\":\"ResetTool\",\"id\":\"p1179\"},{\"type\":\"object\",\"name\":\"HelpTool\",\"id\":\"p1180\"}]}},\"left\":[{\"type\":\"object\",\"name\":\"LinearAxis\",\"id\":\"p1163\",\"attributes\":{\"ticker\":{\"type\":\"object\",\"name\":\"BasicTicker\",\"id\":\"p1164\",\"attributes\":{\"mantissas\":[1,2,5]}},\"formatter\":{\"type\":\"object\",\"name\":\"BasicTickFormatter\",\"id\":\"p1165\"},\"axis_label\":\"Value\",\"major_label_policy\":{\"type\":\"object\",\"name\":\"AllLabels\",\"id\":\"p1166\"}}}],\"below\":[{\"type\":\"object\",\"name\":\"LinearAxis\",\"id\":\"p1158\",\"attributes\":{\"ticker\":{\"type\":\"object\",\"name\":\"BasicTicker\",\"id\":\"p1159\",\"attributes\":{\"mantissas\":[1,2,5]}},\"formatter\":{\"type\":\"object\",\"name\":\"BasicTickFormatter\",\"id\":\"p1160\"},\"axis_label\":\"Category\",\"major_label_policy\":{\"type\":\"object\",\"name\":\"AllLabels\",\"id\":\"p1161\"}}}],\"center\":[{\"type\":\"object\",\"name\":\"Grid\",\"id\":\"p1162\",\"attributes\":{\"axis\":{\"id\":\"p1158\"}}},{\"type\":\"object\",\"name\":\"Grid\",\"id\":\"p1167\",\"attributes\":{\"dimension\":1,\"axis\":{\"id\":\"p1163\"}}}]}}]}};\n  const render_items = [{\"docid\":\"9f71ebc6-4a1c-4366-9bb1-ae095acafdc8\",\"roots\":{\"p1146\":\"bb54eea4-d7b7-4e70-b3cd-80501e6d1282\"},\"root_ids\":[\"p1146\"]}];\n  void root.Bokeh.embed.embed_items_notebook(docs_json, render_items);\n  }\n  if (root.Bokeh !== undefined) {\n    embed_document(root);\n  } else {\n    let attempts = 0;\n    const timer = setInterval(function(root) {\n      if (root.Bokeh !== undefined) {\n        clearInterval(timer);\n        embed_document(root);\n      } else {\n        attempts++;\n        if (attempts > 100) {\n          clearInterval(timer);\n          console.log(\"Bokeh: ERROR: Unable to run BokehJS code because BokehJS library is missing\");\n        }\n      }\n    }, 10, root)\n  }\n})(window);",
      "application/vnd.bokehjs_exec.v0+json": ""
     },
     "metadata": {
      "application/vnd.bokehjs_exec.v0+json": {
       "id": "p1146"
      }
     },
     "output_type": "display_data"
    }
   ],
   "source": [
    "# Qn19. Using Bo+eh, generate a bar chart of randomly generated categorical data, color bars based on their\n",
    "# values, add hover tooltips to display exact values, label the axes, and set the title as 'Random Categorical\n",
    "# Bar Chart'\n",
    "\n",
    "# code->\n",
    "import pandas as pd\n",
    "\n",
    "# Generate random categorical data\n",
    "categories = [\"Shirt\", \"Hat\", \"Shoes\", \"Book\", \"Toy\"]\n",
    "values = [25, 18, 32, 12, 15]  # Adjust the range of values as needed\n",
    "colors = [\"Light Blue\", \"Brown\", \"Black\", \"Dark Green\", \"Red\"]\n",
    "\n",
    "# Create a DataFrame\n",
    "data = pd.DataFrame(list(zip(categories, values, colors)), columns=[\"Category\", \"Value\", \"Color\"])\n",
    "\n",
    "# Print the DataFrame (you can use this data to create the chart in your preferred plotting tool)\n",
    "print(data.to_string())\n",
    "\n",
    "from bokeh.plotting import figure, show\n",
    "\n",
    "# Create a new plot with a title and axis labels\n",
    "p = figure(title=\"Random Categorical Bar Chart\", x_axis_label=\"Category\", y_axis_label=\"Value\")\n",
    "\n",
    "# Add renderer\n",
    "p.vbar(x='Category', top='Value', width=0.5, color='Color', source=data)\n",
    "\n",
    "# Add hover tooltips\n",
    "p.hover.tooltips = [(\"Category\", \"@Category\"), (\"Value\", \"@Value\")]\n",
    "\n",
    "# Show the results\n",
    "show(p)"
   ]
  },
  {
   "cell_type": "code",
   "execution_count": 31,
   "metadata": {},
   "outputs": [
    {
     "data": {
      "application/vnd.plotly.v1+json": {
       "config": {
        "plotlyServerURL": "https://plot.ly"
       },
       "data": [
        {
         "mode": "lines",
         "name": "Random Data",
         "type": "scatter",
         "x": [
          0,
          0.10101010101010101,
          0.20202020202020202,
          0.30303030303030304,
          0.40404040404040403,
          0.5050505050505051,
          0.6060606060606061,
          0.7070707070707071,
          0.8080808080808081,
          0.9090909090909091,
          1.0101010101010102,
          1.1111111111111112,
          1.2121212121212122,
          1.3131313131313131,
          1.4141414141414141,
          1.5151515151515151,
          1.6161616161616161,
          1.7171717171717171,
          1.8181818181818181,
          1.9191919191919191,
          2.0202020202020203,
          2.121212121212121,
          2.2222222222222223,
          2.323232323232323,
          2.4242424242424243,
          2.525252525252525,
          2.6262626262626263,
          2.727272727272727,
          2.8282828282828283,
          2.929292929292929,
          3.0303030303030303,
          3.131313131313131,
          3.2323232323232323,
          3.3333333333333335,
          3.4343434343434343,
          3.5353535353535355,
          3.6363636363636362,
          3.7373737373737375,
          3.8383838383838382,
          3.9393939393939394,
          4.040404040404041,
          4.141414141414141,
          4.242424242424242,
          4.343434343434343,
          4.444444444444445,
          4.545454545454545,
          4.646464646464646,
          4.747474747474747,
          4.848484848484849,
          4.94949494949495,
          5.05050505050505,
          5.151515151515151,
          5.252525252525253,
          5.353535353535354,
          5.454545454545454,
          5.555555555555555,
          5.656565656565657,
          5.757575757575758,
          5.858585858585858,
          5.959595959595959,
          6.0606060606060606,
          6.161616161616162,
          6.262626262626262,
          6.363636363636363,
          6.4646464646464645,
          6.565656565656566,
          6.666666666666667,
          6.767676767676767,
          6.8686868686868685,
          6.96969696969697,
          7.070707070707071,
          7.171717171717171,
          7.2727272727272725,
          7.373737373737374,
          7.474747474747475,
          7.575757575757575,
          7.6767676767676765,
          7.777777777777778,
          7.878787878787879,
          7.979797979797979,
          8.080808080808081,
          8.181818181818182,
          8.282828282828282,
          8.383838383838384,
          8.484848484848484,
          8.585858585858587,
          8.686868686868687,
          8.787878787878787,
          8.88888888888889,
          8.98989898989899,
          9.09090909090909,
          9.191919191919192,
          9.292929292929292,
          9.393939393939394,
          9.494949494949495,
          9.595959595959595,
          9.696969696969697,
          9.797979797979798,
          9.8989898989899,
          10
         ],
         "y": [
          0.6253018174615129,
          0.7056262389831776,
          0.06557918855932054,
          0.7963627238646432,
          0.22139444961975274,
          0.778075175113906,
          0.36625281974563384,
          0.5704563908480011,
          0.17823296586371606,
          0.0908931203215757,
          0.4385689093377273,
          0.4528164165402756,
          0.28344260303166835,
          0.18196121126895926,
          0.1855036014129109,
          0.10728118704533529,
          0.32688657798106935,
          0.7679007880291984,
          0.065642415242401,
          0.8551108675147201,
          0.2638955508248352,
          0.727910108950112,
          0.8231767065519164,
          0.5907133686344234,
          0.9368728370221039,
          0.5406317434933716,
          0.07560114571943621,
          0.7007929256098202,
          0.8763068434033603,
          0.56966055047439,
          0.554459308744145,
          0.34191979416721785,
          0.19899105733609979,
          0.6169411909210926,
          0.8090647427572178,
          0.6907881836306395,
          0.35081428311333984,
          0.6913425551113793,
          0.04446661706448751,
          0.9113320696305727,
          0.19105849924541152,
          0.28690243788796543,
          0.5725414701827186,
          0.39616389101689065,
          0.739794800459084,
          0.31516579490492735,
          0.8106785792686716,
          0.9069576407109651,
          0.5975772333287777,
          0.4666596588879357,
          0.8867580420246669,
          0.1908844549308304,
          0.0803911536716535,
          0.31481436596739165,
          0.9261584978419762,
          0.9596594015955012,
          0.9998297669964682,
          0.47863571321651244,
          0.9292858590704126,
          0.93983852946859,
          0.03658340712928354,
          0.6570377398376213,
          0.8959389050961164,
          0.16598055600020056,
          0.9393060878495888,
          0.16265240907409162,
          0.4182985354779726,
          0.1582046380941372,
          0.01220977350456709,
          0.06217995523481035,
          0.2906948322024485,
          0.6746530409267458,
          0.2631454413608413,
          0.7262176402178858,
          0.4708912020700875,
          0.25029329222508356,
          0.6005638418268239,
          0.626821398890811,
          0.39446188174382446,
          0.16186396856302065,
          0.19832217411142872,
          0.9677243138021516,
          0.24625812656200707,
          0.03601882508162679,
          0.36418464308937215,
          0.941867430153779,
          0.16347151358387302,
          0.7043590189766096,
          0.2539062523637955,
          0.5764416541047809,
          0.33042121110008604,
          0.6600058000837346,
          0.7879695623267422,
          0.6898828415870452,
          0.8543212210844455,
          0.6474400853372725,
          0.7910393574050875,
          0.7901283236896621,
          0.5648902035662142,
          0.9873284554009901
         ]
        }
       ],
       "layout": {
        "template": {
         "data": {
          "bar": [
           {
            "error_x": {
             "color": "#2a3f5f"
            },
            "error_y": {
             "color": "#2a3f5f"
            },
            "marker": {
             "line": {
              "color": "#E5ECF6",
              "width": 0.5
             },
             "pattern": {
              "fillmode": "overlay",
              "size": 10,
              "solidity": 0.2
             }
            },
            "type": "bar"
           }
          ],
          "barpolar": [
           {
            "marker": {
             "line": {
              "color": "#E5ECF6",
              "width": 0.5
             },
             "pattern": {
              "fillmode": "overlay",
              "size": 10,
              "solidity": 0.2
             }
            },
            "type": "barpolar"
           }
          ],
          "carpet": [
           {
            "aaxis": {
             "endlinecolor": "#2a3f5f",
             "gridcolor": "white",
             "linecolor": "white",
             "minorgridcolor": "white",
             "startlinecolor": "#2a3f5f"
            },
            "baxis": {
             "endlinecolor": "#2a3f5f",
             "gridcolor": "white",
             "linecolor": "white",
             "minorgridcolor": "white",
             "startlinecolor": "#2a3f5f"
            },
            "type": "carpet"
           }
          ],
          "choropleth": [
           {
            "colorbar": {
             "outlinewidth": 0,
             "ticks": ""
            },
            "type": "choropleth"
           }
          ],
          "contour": [
           {
            "colorbar": {
             "outlinewidth": 0,
             "ticks": ""
            },
            "colorscale": [
             [
              0,
              "#0d0887"
             ],
             [
              0.1111111111111111,
              "#46039f"
             ],
             [
              0.2222222222222222,
              "#7201a8"
             ],
             [
              0.3333333333333333,
              "#9c179e"
             ],
             [
              0.4444444444444444,
              "#bd3786"
             ],
             [
              0.5555555555555556,
              "#d8576b"
             ],
             [
              0.6666666666666666,
              "#ed7953"
             ],
             [
              0.7777777777777778,
              "#fb9f3a"
             ],
             [
              0.8888888888888888,
              "#fdca26"
             ],
             [
              1,
              "#f0f921"
             ]
            ],
            "type": "contour"
           }
          ],
          "contourcarpet": [
           {
            "colorbar": {
             "outlinewidth": 0,
             "ticks": ""
            },
            "type": "contourcarpet"
           }
          ],
          "heatmap": [
           {
            "colorbar": {
             "outlinewidth": 0,
             "ticks": ""
            },
            "colorscale": [
             [
              0,
              "#0d0887"
             ],
             [
              0.1111111111111111,
              "#46039f"
             ],
             [
              0.2222222222222222,
              "#7201a8"
             ],
             [
              0.3333333333333333,
              "#9c179e"
             ],
             [
              0.4444444444444444,
              "#bd3786"
             ],
             [
              0.5555555555555556,
              "#d8576b"
             ],
             [
              0.6666666666666666,
              "#ed7953"
             ],
             [
              0.7777777777777778,
              "#fb9f3a"
             ],
             [
              0.8888888888888888,
              "#fdca26"
             ],
             [
              1,
              "#f0f921"
             ]
            ],
            "type": "heatmap"
           }
          ],
          "heatmapgl": [
           {
            "colorbar": {
             "outlinewidth": 0,
             "ticks": ""
            },
            "colorscale": [
             [
              0,
              "#0d0887"
             ],
             [
              0.1111111111111111,
              "#46039f"
             ],
             [
              0.2222222222222222,
              "#7201a8"
             ],
             [
              0.3333333333333333,
              "#9c179e"
             ],
             [
              0.4444444444444444,
              "#bd3786"
             ],
             [
              0.5555555555555556,
              "#d8576b"
             ],
             [
              0.6666666666666666,
              "#ed7953"
             ],
             [
              0.7777777777777778,
              "#fb9f3a"
             ],
             [
              0.8888888888888888,
              "#fdca26"
             ],
             [
              1,
              "#f0f921"
             ]
            ],
            "type": "heatmapgl"
           }
          ],
          "histogram": [
           {
            "marker": {
             "pattern": {
              "fillmode": "overlay",
              "size": 10,
              "solidity": 0.2
             }
            },
            "type": "histogram"
           }
          ],
          "histogram2d": [
           {
            "colorbar": {
             "outlinewidth": 0,
             "ticks": ""
            },
            "colorscale": [
             [
              0,
              "#0d0887"
             ],
             [
              0.1111111111111111,
              "#46039f"
             ],
             [
              0.2222222222222222,
              "#7201a8"
             ],
             [
              0.3333333333333333,
              "#9c179e"
             ],
             [
              0.4444444444444444,
              "#bd3786"
             ],
             [
              0.5555555555555556,
              "#d8576b"
             ],
             [
              0.6666666666666666,
              "#ed7953"
             ],
             [
              0.7777777777777778,
              "#fb9f3a"
             ],
             [
              0.8888888888888888,
              "#fdca26"
             ],
             [
              1,
              "#f0f921"
             ]
            ],
            "type": "histogram2d"
           }
          ],
          "histogram2dcontour": [
           {
            "colorbar": {
             "outlinewidth": 0,
             "ticks": ""
            },
            "colorscale": [
             [
              0,
              "#0d0887"
             ],
             [
              0.1111111111111111,
              "#46039f"
             ],
             [
              0.2222222222222222,
              "#7201a8"
             ],
             [
              0.3333333333333333,
              "#9c179e"
             ],
             [
              0.4444444444444444,
              "#bd3786"
             ],
             [
              0.5555555555555556,
              "#d8576b"
             ],
             [
              0.6666666666666666,
              "#ed7953"
             ],
             [
              0.7777777777777778,
              "#fb9f3a"
             ],
             [
              0.8888888888888888,
              "#fdca26"
             ],
             [
              1,
              "#f0f921"
             ]
            ],
            "type": "histogram2dcontour"
           }
          ],
          "mesh3d": [
           {
            "colorbar": {
             "outlinewidth": 0,
             "ticks": ""
            },
            "type": "mesh3d"
           }
          ],
          "parcoords": [
           {
            "line": {
             "colorbar": {
              "outlinewidth": 0,
              "ticks": ""
             }
            },
            "type": "parcoords"
           }
          ],
          "pie": [
           {
            "automargin": true,
            "type": "pie"
           }
          ],
          "scatter": [
           {
            "fillpattern": {
             "fillmode": "overlay",
             "size": 10,
             "solidity": 0.2
            },
            "type": "scatter"
           }
          ],
          "scatter3d": [
           {
            "line": {
             "colorbar": {
              "outlinewidth": 0,
              "ticks": ""
             }
            },
            "marker": {
             "colorbar": {
              "outlinewidth": 0,
              "ticks": ""
             }
            },
            "type": "scatter3d"
           }
          ],
          "scattercarpet": [
           {
            "marker": {
             "colorbar": {
              "outlinewidth": 0,
              "ticks": ""
             }
            },
            "type": "scattercarpet"
           }
          ],
          "scattergeo": [
           {
            "marker": {
             "colorbar": {
              "outlinewidth": 0,
              "ticks": ""
             }
            },
            "type": "scattergeo"
           }
          ],
          "scattergl": [
           {
            "marker": {
             "colorbar": {
              "outlinewidth": 0,
              "ticks": ""
             }
            },
            "type": "scattergl"
           }
          ],
          "scattermapbox": [
           {
            "marker": {
             "colorbar": {
              "outlinewidth": 0,
              "ticks": ""
             }
            },
            "type": "scattermapbox"
           }
          ],
          "scatterpolar": [
           {
            "marker": {
             "colorbar": {
              "outlinewidth": 0,
              "ticks": ""
             }
            },
            "type": "scatterpolar"
           }
          ],
          "scatterpolargl": [
           {
            "marker": {
             "colorbar": {
              "outlinewidth": 0,
              "ticks": ""
             }
            },
            "type": "scatterpolargl"
           }
          ],
          "scatterternary": [
           {
            "marker": {
             "colorbar": {
              "outlinewidth": 0,
              "ticks": ""
             }
            },
            "type": "scatterternary"
           }
          ],
          "surface": [
           {
            "colorbar": {
             "outlinewidth": 0,
             "ticks": ""
            },
            "colorscale": [
             [
              0,
              "#0d0887"
             ],
             [
              0.1111111111111111,
              "#46039f"
             ],
             [
              0.2222222222222222,
              "#7201a8"
             ],
             [
              0.3333333333333333,
              "#9c179e"
             ],
             [
              0.4444444444444444,
              "#bd3786"
             ],
             [
              0.5555555555555556,
              "#d8576b"
             ],
             [
              0.6666666666666666,
              "#ed7953"
             ],
             [
              0.7777777777777778,
              "#fb9f3a"
             ],
             [
              0.8888888888888888,
              "#fdca26"
             ],
             [
              1,
              "#f0f921"
             ]
            ],
            "type": "surface"
           }
          ],
          "table": [
           {
            "cells": {
             "fill": {
              "color": "#EBF0F8"
             },
             "line": {
              "color": "white"
             }
            },
            "header": {
             "fill": {
              "color": "#C8D4E3"
             },
             "line": {
              "color": "white"
             }
            },
            "type": "table"
           }
          ]
         },
         "layout": {
          "annotationdefaults": {
           "arrowcolor": "#2a3f5f",
           "arrowhead": 0,
           "arrowwidth": 1
          },
          "autotypenumbers": "strict",
          "coloraxis": {
           "colorbar": {
            "outlinewidth": 0,
            "ticks": ""
           }
          },
          "colorscale": {
           "diverging": [
            [
             0,
             "#8e0152"
            ],
            [
             0.1,
             "#c51b7d"
            ],
            [
             0.2,
             "#de77ae"
            ],
            [
             0.3,
             "#f1b6da"
            ],
            [
             0.4,
             "#fde0ef"
            ],
            [
             0.5,
             "#f7f7f7"
            ],
            [
             0.6,
             "#e6f5d0"
            ],
            [
             0.7,
             "#b8e186"
            ],
            [
             0.8,
             "#7fbc41"
            ],
            [
             0.9,
             "#4d9221"
            ],
            [
             1,
             "#276419"
            ]
           ],
           "sequential": [
            [
             0,
             "#0d0887"
            ],
            [
             0.1111111111111111,
             "#46039f"
            ],
            [
             0.2222222222222222,
             "#7201a8"
            ],
            [
             0.3333333333333333,
             "#9c179e"
            ],
            [
             0.4444444444444444,
             "#bd3786"
            ],
            [
             0.5555555555555556,
             "#d8576b"
            ],
            [
             0.6666666666666666,
             "#ed7953"
            ],
            [
             0.7777777777777778,
             "#fb9f3a"
            ],
            [
             0.8888888888888888,
             "#fdca26"
            ],
            [
             1,
             "#f0f921"
            ]
           ],
           "sequentialminus": [
            [
             0,
             "#0d0887"
            ],
            [
             0.1111111111111111,
             "#46039f"
            ],
            [
             0.2222222222222222,
             "#7201a8"
            ],
            [
             0.3333333333333333,
             "#9c179e"
            ],
            [
             0.4444444444444444,
             "#bd3786"
            ],
            [
             0.5555555555555556,
             "#d8576b"
            ],
            [
             0.6666666666666666,
             "#ed7953"
            ],
            [
             0.7777777777777778,
             "#fb9f3a"
            ],
            [
             0.8888888888888888,
             "#fdca26"
            ],
            [
             1,
             "#f0f921"
            ]
           ]
          },
          "colorway": [
           "#636efa",
           "#EF553B",
           "#00cc96",
           "#ab63fa",
           "#FFA15A",
           "#19d3f3",
           "#FF6692",
           "#B6E880",
           "#FF97FF",
           "#FECB52"
          ],
          "font": {
           "color": "#2a3f5f"
          },
          "geo": {
           "bgcolor": "white",
           "lakecolor": "white",
           "landcolor": "#E5ECF6",
           "showlakes": true,
           "showland": true,
           "subunitcolor": "white"
          },
          "hoverlabel": {
           "align": "left"
          },
          "hovermode": "closest",
          "mapbox": {
           "style": "light"
          },
          "paper_bgcolor": "white",
          "plot_bgcolor": "#E5ECF6",
          "polar": {
           "angularaxis": {
            "gridcolor": "white",
            "linecolor": "white",
            "ticks": ""
           },
           "bgcolor": "#E5ECF6",
           "radialaxis": {
            "gridcolor": "white",
            "linecolor": "white",
            "ticks": ""
           }
          },
          "scene": {
           "xaxis": {
            "backgroundcolor": "#E5ECF6",
            "gridcolor": "white",
            "gridwidth": 2,
            "linecolor": "white",
            "showbackground": true,
            "ticks": "",
            "zerolinecolor": "white"
           },
           "yaxis": {
            "backgroundcolor": "#E5ECF6",
            "gridcolor": "white",
            "gridwidth": 2,
            "linecolor": "white",
            "showbackground": true,
            "ticks": "",
            "zerolinecolor": "white"
           },
           "zaxis": {
            "backgroundcolor": "#E5ECF6",
            "gridcolor": "white",
            "gridwidth": 2,
            "linecolor": "white",
            "showbackground": true,
            "ticks": "",
            "zerolinecolor": "white"
           }
          },
          "shapedefaults": {
           "line": {
            "color": "#2a3f5f"
           }
          },
          "ternary": {
           "aaxis": {
            "gridcolor": "white",
            "linecolor": "white",
            "ticks": ""
           },
           "baxis": {
            "gridcolor": "white",
            "linecolor": "white",
            "ticks": ""
           },
           "bgcolor": "#E5ECF6",
           "caxis": {
            "gridcolor": "white",
            "linecolor": "white",
            "ticks": ""
           }
          },
          "title": {
           "x": 0.05
          },
          "xaxis": {
           "automargin": true,
           "gridcolor": "white",
           "linecolor": "white",
           "ticks": "",
           "title": {
            "standoff": 15
           },
           "zerolinecolor": "white",
           "zerolinewidth": 2
          },
          "yaxis": {
           "automargin": true,
           "gridcolor": "white",
           "linecolor": "white",
           "ticks": "",
           "title": {
            "standoff": 15
           },
           "zerolinecolor": "white",
           "zerolinewidth": 2
          }
         }
        },
        "title": {
         "text": "Simple Line Plot"
        },
        "xaxis": {
         "title": {
          "text": "X Axis Label"
         }
        },
        "yaxis": {
         "title": {
          "text": "Y Axis Label"
         }
        }
       }
      }
     },
     "metadata": {},
     "output_type": "display_data"
    }
   ],
   "source": [
    "# Qn20. Using Plotly, create a basic line plot of a randomly generated dataset, label the axes, and set the title as\n",
    "# 'Simple Line Plot'\n",
    "\n",
    "# code->\n",
    "import plotly.graph_objects as go\n",
    "import numpy as np\n",
    "\n",
    "# Generate random data\n",
    "x = np.linspace(0, 10, 100)  # 100 points between 0 and 10\n",
    "y = np.random.random(100)    # 100 random values\n",
    "\n",
    "# Create a line plot\n",
    "fig = go.Figure()\n",
    "\n",
    "# Add a trace to the figure\n",
    "fig.add_trace(go.Scatter(x=x, y=y, mode='lines', name='Random Data'))\n",
    "\n",
    "# Update the layout to add titles and labels\n",
    "fig.update_layout(\n",
    "    title='Simple Line Plot',\n",
    "    xaxis_title='X Axis Label',\n",
    "    yaxis_title='Y Axis Label'\n",
    ")\n",
    "\n",
    "# Show the plot\n",
    "fig.show()\n"
   ]
  },
  {
   "cell_type": "code",
   "execution_count": 32,
   "metadata": {},
   "outputs": [
    {
     "data": {
      "application/vnd.plotly.v1+json": {
       "config": {
        "plotlyServerURL": "https://plot.ly"
       },
       "data": [
        {
         "hole": 0.3,
         "labels": [
          "A",
          "B",
          "C",
          "D",
          "E"
         ],
         "textinfo": "label+percent",
         "type": "pie",
         "values": [
          21,
          96,
          63,
          5,
          72
         ]
        }
       ],
       "layout": {
        "template": {
         "data": {
          "bar": [
           {
            "error_x": {
             "color": "#2a3f5f"
            },
            "error_y": {
             "color": "#2a3f5f"
            },
            "marker": {
             "line": {
              "color": "#E5ECF6",
              "width": 0.5
             },
             "pattern": {
              "fillmode": "overlay",
              "size": 10,
              "solidity": 0.2
             }
            },
            "type": "bar"
           }
          ],
          "barpolar": [
           {
            "marker": {
             "line": {
              "color": "#E5ECF6",
              "width": 0.5
             },
             "pattern": {
              "fillmode": "overlay",
              "size": 10,
              "solidity": 0.2
             }
            },
            "type": "barpolar"
           }
          ],
          "carpet": [
           {
            "aaxis": {
             "endlinecolor": "#2a3f5f",
             "gridcolor": "white",
             "linecolor": "white",
             "minorgridcolor": "white",
             "startlinecolor": "#2a3f5f"
            },
            "baxis": {
             "endlinecolor": "#2a3f5f",
             "gridcolor": "white",
             "linecolor": "white",
             "minorgridcolor": "white",
             "startlinecolor": "#2a3f5f"
            },
            "type": "carpet"
           }
          ],
          "choropleth": [
           {
            "colorbar": {
             "outlinewidth": 0,
             "ticks": ""
            },
            "type": "choropleth"
           }
          ],
          "contour": [
           {
            "colorbar": {
             "outlinewidth": 0,
             "ticks": ""
            },
            "colorscale": [
             [
              0,
              "#0d0887"
             ],
             [
              0.1111111111111111,
              "#46039f"
             ],
             [
              0.2222222222222222,
              "#7201a8"
             ],
             [
              0.3333333333333333,
              "#9c179e"
             ],
             [
              0.4444444444444444,
              "#bd3786"
             ],
             [
              0.5555555555555556,
              "#d8576b"
             ],
             [
              0.6666666666666666,
              "#ed7953"
             ],
             [
              0.7777777777777778,
              "#fb9f3a"
             ],
             [
              0.8888888888888888,
              "#fdca26"
             ],
             [
              1,
              "#f0f921"
             ]
            ],
            "type": "contour"
           }
          ],
          "contourcarpet": [
           {
            "colorbar": {
             "outlinewidth": 0,
             "ticks": ""
            },
            "type": "contourcarpet"
           }
          ],
          "heatmap": [
           {
            "colorbar": {
             "outlinewidth": 0,
             "ticks": ""
            },
            "colorscale": [
             [
              0,
              "#0d0887"
             ],
             [
              0.1111111111111111,
              "#46039f"
             ],
             [
              0.2222222222222222,
              "#7201a8"
             ],
             [
              0.3333333333333333,
              "#9c179e"
             ],
             [
              0.4444444444444444,
              "#bd3786"
             ],
             [
              0.5555555555555556,
              "#d8576b"
             ],
             [
              0.6666666666666666,
              "#ed7953"
             ],
             [
              0.7777777777777778,
              "#fb9f3a"
             ],
             [
              0.8888888888888888,
              "#fdca26"
             ],
             [
              1,
              "#f0f921"
             ]
            ],
            "type": "heatmap"
           }
          ],
          "heatmapgl": [
           {
            "colorbar": {
             "outlinewidth": 0,
             "ticks": ""
            },
            "colorscale": [
             [
              0,
              "#0d0887"
             ],
             [
              0.1111111111111111,
              "#46039f"
             ],
             [
              0.2222222222222222,
              "#7201a8"
             ],
             [
              0.3333333333333333,
              "#9c179e"
             ],
             [
              0.4444444444444444,
              "#bd3786"
             ],
             [
              0.5555555555555556,
              "#d8576b"
             ],
             [
              0.6666666666666666,
              "#ed7953"
             ],
             [
              0.7777777777777778,
              "#fb9f3a"
             ],
             [
              0.8888888888888888,
              "#fdca26"
             ],
             [
              1,
              "#f0f921"
             ]
            ],
            "type": "heatmapgl"
           }
          ],
          "histogram": [
           {
            "marker": {
             "pattern": {
              "fillmode": "overlay",
              "size": 10,
              "solidity": 0.2
             }
            },
            "type": "histogram"
           }
          ],
          "histogram2d": [
           {
            "colorbar": {
             "outlinewidth": 0,
             "ticks": ""
            },
            "colorscale": [
             [
              0,
              "#0d0887"
             ],
             [
              0.1111111111111111,
              "#46039f"
             ],
             [
              0.2222222222222222,
              "#7201a8"
             ],
             [
              0.3333333333333333,
              "#9c179e"
             ],
             [
              0.4444444444444444,
              "#bd3786"
             ],
             [
              0.5555555555555556,
              "#d8576b"
             ],
             [
              0.6666666666666666,
              "#ed7953"
             ],
             [
              0.7777777777777778,
              "#fb9f3a"
             ],
             [
              0.8888888888888888,
              "#fdca26"
             ],
             [
              1,
              "#f0f921"
             ]
            ],
            "type": "histogram2d"
           }
          ],
          "histogram2dcontour": [
           {
            "colorbar": {
             "outlinewidth": 0,
             "ticks": ""
            },
            "colorscale": [
             [
              0,
              "#0d0887"
             ],
             [
              0.1111111111111111,
              "#46039f"
             ],
             [
              0.2222222222222222,
              "#7201a8"
             ],
             [
              0.3333333333333333,
              "#9c179e"
             ],
             [
              0.4444444444444444,
              "#bd3786"
             ],
             [
              0.5555555555555556,
              "#d8576b"
             ],
             [
              0.6666666666666666,
              "#ed7953"
             ],
             [
              0.7777777777777778,
              "#fb9f3a"
             ],
             [
              0.8888888888888888,
              "#fdca26"
             ],
             [
              1,
              "#f0f921"
             ]
            ],
            "type": "histogram2dcontour"
           }
          ],
          "mesh3d": [
           {
            "colorbar": {
             "outlinewidth": 0,
             "ticks": ""
            },
            "type": "mesh3d"
           }
          ],
          "parcoords": [
           {
            "line": {
             "colorbar": {
              "outlinewidth": 0,
              "ticks": ""
             }
            },
            "type": "parcoords"
           }
          ],
          "pie": [
           {
            "automargin": true,
            "type": "pie"
           }
          ],
          "scatter": [
           {
            "fillpattern": {
             "fillmode": "overlay",
             "size": 10,
             "solidity": 0.2
            },
            "type": "scatter"
           }
          ],
          "scatter3d": [
           {
            "line": {
             "colorbar": {
              "outlinewidth": 0,
              "ticks": ""
             }
            },
            "marker": {
             "colorbar": {
              "outlinewidth": 0,
              "ticks": ""
             }
            },
            "type": "scatter3d"
           }
          ],
          "scattercarpet": [
           {
            "marker": {
             "colorbar": {
              "outlinewidth": 0,
              "ticks": ""
             }
            },
            "type": "scattercarpet"
           }
          ],
          "scattergeo": [
           {
            "marker": {
             "colorbar": {
              "outlinewidth": 0,
              "ticks": ""
             }
            },
            "type": "scattergeo"
           }
          ],
          "scattergl": [
           {
            "marker": {
             "colorbar": {
              "outlinewidth": 0,
              "ticks": ""
             }
            },
            "type": "scattergl"
           }
          ],
          "scattermapbox": [
           {
            "marker": {
             "colorbar": {
              "outlinewidth": 0,
              "ticks": ""
             }
            },
            "type": "scattermapbox"
           }
          ],
          "scatterpolar": [
           {
            "marker": {
             "colorbar": {
              "outlinewidth": 0,
              "ticks": ""
             }
            },
            "type": "scatterpolar"
           }
          ],
          "scatterpolargl": [
           {
            "marker": {
             "colorbar": {
              "outlinewidth": 0,
              "ticks": ""
             }
            },
            "type": "scatterpolargl"
           }
          ],
          "scatterternary": [
           {
            "marker": {
             "colorbar": {
              "outlinewidth": 0,
              "ticks": ""
             }
            },
            "type": "scatterternary"
           }
          ],
          "surface": [
           {
            "colorbar": {
             "outlinewidth": 0,
             "ticks": ""
            },
            "colorscale": [
             [
              0,
              "#0d0887"
             ],
             [
              0.1111111111111111,
              "#46039f"
             ],
             [
              0.2222222222222222,
              "#7201a8"
             ],
             [
              0.3333333333333333,
              "#9c179e"
             ],
             [
              0.4444444444444444,
              "#bd3786"
             ],
             [
              0.5555555555555556,
              "#d8576b"
             ],
             [
              0.6666666666666666,
              "#ed7953"
             ],
             [
              0.7777777777777778,
              "#fb9f3a"
             ],
             [
              0.8888888888888888,
              "#fdca26"
             ],
             [
              1,
              "#f0f921"
             ]
            ],
            "type": "surface"
           }
          ],
          "table": [
           {
            "cells": {
             "fill": {
              "color": "#EBF0F8"
             },
             "line": {
              "color": "white"
             }
            },
            "header": {
             "fill": {
              "color": "#C8D4E3"
             },
             "line": {
              "color": "white"
             }
            },
            "type": "table"
           }
          ]
         },
         "layout": {
          "annotationdefaults": {
           "arrowcolor": "#2a3f5f",
           "arrowhead": 0,
           "arrowwidth": 1
          },
          "autotypenumbers": "strict",
          "coloraxis": {
           "colorbar": {
            "outlinewidth": 0,
            "ticks": ""
           }
          },
          "colorscale": {
           "diverging": [
            [
             0,
             "#8e0152"
            ],
            [
             0.1,
             "#c51b7d"
            ],
            [
             0.2,
             "#de77ae"
            ],
            [
             0.3,
             "#f1b6da"
            ],
            [
             0.4,
             "#fde0ef"
            ],
            [
             0.5,
             "#f7f7f7"
            ],
            [
             0.6,
             "#e6f5d0"
            ],
            [
             0.7,
             "#b8e186"
            ],
            [
             0.8,
             "#7fbc41"
            ],
            [
             0.9,
             "#4d9221"
            ],
            [
             1,
             "#276419"
            ]
           ],
           "sequential": [
            [
             0,
             "#0d0887"
            ],
            [
             0.1111111111111111,
             "#46039f"
            ],
            [
             0.2222222222222222,
             "#7201a8"
            ],
            [
             0.3333333333333333,
             "#9c179e"
            ],
            [
             0.4444444444444444,
             "#bd3786"
            ],
            [
             0.5555555555555556,
             "#d8576b"
            ],
            [
             0.6666666666666666,
             "#ed7953"
            ],
            [
             0.7777777777777778,
             "#fb9f3a"
            ],
            [
             0.8888888888888888,
             "#fdca26"
            ],
            [
             1,
             "#f0f921"
            ]
           ],
           "sequentialminus": [
            [
             0,
             "#0d0887"
            ],
            [
             0.1111111111111111,
             "#46039f"
            ],
            [
             0.2222222222222222,
             "#7201a8"
            ],
            [
             0.3333333333333333,
             "#9c179e"
            ],
            [
             0.4444444444444444,
             "#bd3786"
            ],
            [
             0.5555555555555556,
             "#d8576b"
            ],
            [
             0.6666666666666666,
             "#ed7953"
            ],
            [
             0.7777777777777778,
             "#fb9f3a"
            ],
            [
             0.8888888888888888,
             "#fdca26"
            ],
            [
             1,
             "#f0f921"
            ]
           ]
          },
          "colorway": [
           "#636efa",
           "#EF553B",
           "#00cc96",
           "#ab63fa",
           "#FFA15A",
           "#19d3f3",
           "#FF6692",
           "#B6E880",
           "#FF97FF",
           "#FECB52"
          ],
          "font": {
           "color": "#2a3f5f"
          },
          "geo": {
           "bgcolor": "white",
           "lakecolor": "white",
           "landcolor": "#E5ECF6",
           "showlakes": true,
           "showland": true,
           "subunitcolor": "white"
          },
          "hoverlabel": {
           "align": "left"
          },
          "hovermode": "closest",
          "mapbox": {
           "style": "light"
          },
          "paper_bgcolor": "white",
          "plot_bgcolor": "#E5ECF6",
          "polar": {
           "angularaxis": {
            "gridcolor": "white",
            "linecolor": "white",
            "ticks": ""
           },
           "bgcolor": "#E5ECF6",
           "radialaxis": {
            "gridcolor": "white",
            "linecolor": "white",
            "ticks": ""
           }
          },
          "scene": {
           "xaxis": {
            "backgroundcolor": "#E5ECF6",
            "gridcolor": "white",
            "gridwidth": 2,
            "linecolor": "white",
            "showbackground": true,
            "ticks": "",
            "zerolinecolor": "white"
           },
           "yaxis": {
            "backgroundcolor": "#E5ECF6",
            "gridcolor": "white",
            "gridwidth": 2,
            "linecolor": "white",
            "showbackground": true,
            "ticks": "",
            "zerolinecolor": "white"
           },
           "zaxis": {
            "backgroundcolor": "#E5ECF6",
            "gridcolor": "white",
            "gridwidth": 2,
            "linecolor": "white",
            "showbackground": true,
            "ticks": "",
            "zerolinecolor": "white"
           }
          },
          "shapedefaults": {
           "line": {
            "color": "#2a3f5f"
           }
          },
          "ternary": {
           "aaxis": {
            "gridcolor": "white",
            "linecolor": "white",
            "ticks": ""
           },
           "baxis": {
            "gridcolor": "white",
            "linecolor": "white",
            "ticks": ""
           },
           "bgcolor": "#E5ECF6",
           "caxis": {
            "gridcolor": "white",
            "linecolor": "white",
            "ticks": ""
           }
          },
          "title": {
           "x": 0.05
          },
          "xaxis": {
           "automargin": true,
           "gridcolor": "white",
           "linecolor": "white",
           "ticks": "",
           "title": {
            "standoff": 15
           },
           "zerolinecolor": "white",
           "zerolinewidth": 2
          },
          "yaxis": {
           "automargin": true,
           "gridcolor": "white",
           "linecolor": "white",
           "ticks": "",
           "title": {
            "standoff": 15
           },
           "zerolinecolor": "white",
           "zerolinewidth": 2
          }
         }
        },
        "title": {
         "text": "Interactive Pie Chart"
        }
       }
      }
     },
     "metadata": {},
     "output_type": "display_data"
    }
   ],
   "source": [
    "# Qn21. Using Plotly, create an interactive pie chart of randomly generated data, add labels and percentages, set\n",
    "# the title as 'Interactive Pie Chart'.\n",
    "\n",
    "# code->\n",
    "import plotly.graph_objects as go\n",
    "import numpy as np\n",
    "\n",
    "# Generate random data\n",
    "labels = ['A', 'B', 'C', 'D', 'E']\n",
    "values = np.random.randint(1, 100, size=len(labels))\n",
    "\n",
    "# Create a pie chart\n",
    "fig = go.Figure(data=[go.Pie(\n",
    "    labels=labels,\n",
    "    values=values,\n",
    "    textinfo='label+percent',\n",
    "    hole=0.3  # Optional: creates a donut chart\n",
    ")])\n",
    "\n",
    "# Update layout with title\n",
    "fig.update_layout(\n",
    "    title='Interactive Pie Chart'\n",
    ")\n",
    "\n",
    "# Show the plot\n",
    "fig.show()\n"
   ]
  },
  {
   "cell_type": "code",
   "execution_count": null,
   "metadata": {},
   "outputs": [],
   "source": []
  }
 ],
 "metadata": {
  "kernelspec": {
   "display_name": "Python 3",
   "language": "python",
   "name": "python3"
  },
  "language_info": {
   "codemirror_mode": {
    "name": "ipython",
    "version": 3
   },
   "file_extension": ".py",
   "mimetype": "text/x-python",
   "name": "python",
   "nbconvert_exporter": "python",
   "pygments_lexer": "ipython3",
   "version": "3.12.2"
  }
 },
 "nbformat": 4,
 "nbformat_minor": 2
}
